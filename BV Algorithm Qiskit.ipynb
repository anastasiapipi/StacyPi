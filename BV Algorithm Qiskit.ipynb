{
 "cells": [
  {
   "cell_type": "code",
   "execution_count": 2,
   "id": "b2e6b8d5",
   "metadata": {},
   "outputs": [],
   "source": [
    "import qiskit\n",
    "import numpy as np\n",
    "from qiskit.providers.ibmq import least_busy\n",
    "from qiskit import QuantumCircuit, assemble, transpile\n",
    "from qiskit.visualization import plot_histogram\n",
    "from qiskit import IBMQ, Aer\n",
    "from qiskit.providers.aer import AerSimulator"
   ]
  },
  {
   "cell_type": "code",
   "execution_count": 3,
   "id": "31dccc47",
   "metadata": {},
   "outputs": [],
   "source": [
    "#input length of qubits\n",
    "n = 3"
   ]
  },
  {
   "cell_type": "code",
   "execution_count": 4,
   "id": "c443a159",
   "metadata": {},
   "outputs": [],
   "source": [
    "#define oracle for algorithm\n",
    "circ = QuantumCircuit(n+1,n)\n",
    "s = '001' #hidden bit string\n",
    "\n",
    "s = s[::-1] # reverse s to fit qiskit's qubit ordering\n",
    "for q in range(n):\n",
    "    if s[q] == '0':\n",
    "        circ.i(q)\n",
    "    else:\n",
    "        circ.cx(q, n)"
   ]
  },
  {
   "cell_type": "code",
   "execution_count": 5,
   "id": "bfa32880",
   "metadata": {},
   "outputs": [
    {
     "name": "stderr",
     "output_type": "stream",
     "text": [
      "/var/folders/05/9y6gplnj7kg_9m62mlq2tlqr0000gn/T/ipykernel_22338/386505763.py:13: DeprecationWarning: The QuantumCircuit.__iadd__() method is being deprecated. Use the compose() (potentially with the inplace=True argument) and tensor() methods which are more flexible w.r.t circuit register compatibility.\n",
      "  circuit += circ\n"
     ]
    },
    {
     "data": {
      "text/html": [
       "<pre style=\"word-wrap: normal;white-space: pre;background: #fff0;line-height: 1.1;font-family: &quot;Courier New&quot;,Courier,monospace\">     ┌───┐      ░            ░ ┌───┐ ░ ┌─┐      \n",
       "q_0: ┤ H ├──────░───■────────░─┤ H ├─░─┤M├──────\n",
       "     ├───┤      ░   │  ┌───┐ ░ ├───┤ ░ └╥┘┌─┐   \n",
       "q_1: ┤ H ├──────░───┼──┤ I ├─░─┤ H ├─░──╫─┤M├───\n",
       "     ├───┤      ░   │  ├───┤ ░ ├───┤ ░  ║ └╥┘┌─┐\n",
       "q_2: ┤ H ├──────░───┼──┤ I ├─░─┤ H ├─░──╫──╫─┤M├\n",
       "     ├───┤┌───┐ ░ ┌─┴─┐└───┘ ░ └───┘ ░  ║  ║ └╥┘\n",
       "q_3: ┤ X ├┤ H ├─░─┤ X ├──────░───────░──╫──╫──╫─\n",
       "     └───┘└───┘ ░ └───┘      ░       ░  ║  ║  ║ \n",
       "c_0: ═══════════════════════════════════╩══╬══╬═\n",
       "                                           ║  ║ \n",
       "c_1: ══════════════════════════════════════╩══╬═\n",
       "                                              ║ \n",
       "c_2: ═════════════════════════════════════════╩═\n",
       "                                                </pre>"
      ],
      "text/plain": [
       "     ┌───┐      ░            ░ ┌───┐ ░ ┌─┐      \n",
       "q_0: ┤ H ├──────░───■────────░─┤ H ├─░─┤M├──────\n",
       "     ├───┤      ░   │  ┌───┐ ░ ├───┤ ░ └╥┘┌─┐   \n",
       "q_1: ┤ H ├──────░───┼──┤ I ├─░─┤ H ├─░──╫─┤M├───\n",
       "     ├───┤      ░   │  ├───┤ ░ ├───┤ ░  ║ └╥┘┌─┐\n",
       "q_2: ┤ H ├──────░───┼──┤ I ├─░─┤ H ├─░──╫──╫─┤M├\n",
       "     ├───┤┌───┐ ░ ┌─┴─┐└───┘ ░ └───┘ ░  ║  ║ └╥┘\n",
       "q_3: ┤ X ├┤ H ├─░─┤ X ├──────░───────░──╫──╫──╫─\n",
       "     └───┘└───┘ ░ └───┘      ░       ░  ║  ║  ║ \n",
       "c_0: ═══════════════════════════════════╩══╬══╬═\n",
       "                                           ║  ║ \n",
       "c_1: ══════════════════════════════════════╩══╬═\n",
       "                                              ║ \n",
       "c_2: ═════════════════════════════════════════╩═\n",
       "                                                "
      ]
     },
     "execution_count": 5,
     "metadata": {},
     "output_type": "execute_result"
    }
   ],
   "source": [
    "#define full algorithm\n",
    "circuit = QuantumCircuit(n+1,n)\n",
    "#apply Hadamard at beginning\n",
    "for i in range(n):\n",
    "    circuit.h(i)\n",
    "\n",
    "#create - state on q3\n",
    "circuit.x(3)\n",
    "circuit.h(3)\n",
    "circuit.barrier()\n",
    "\n",
    "#apply oracle on circuit\n",
    "circuit += circ\n",
    "circuit.barrier()\n",
    "\n",
    "#apply hadamrad on output \n",
    "for i in range(n):\n",
    "    circuit.h(i)\n",
    "    \n",
    "circuit.barrier()\n",
    "\n",
    "#measure qubits\n",
    "for i in range(n):\n",
    "    circuit.measure(i,i)\n",
    "\n",
    "circuit.draw()"
   ]
  },
  {
   "cell_type": "code",
   "execution_count": null,
   "id": "7fbc2657",
   "metadata": {},
   "outputs": [],
   "source": []
  },
  {
   "cell_type": "code",
   "execution_count": 24,
   "id": "8ec0ea0f",
   "metadata": {},
   "outputs": [],
   "source": [
    "def bv_oracle(n,b):\n",
    "    # We need to make a QuantumCircuit object to return\n",
    "    # We need a circuit with n qubits, plus one auxiliary qubit\n",
    "    bv_oracle = QuantumCircuit(n+1)\n",
    "    #if b='random' generate a random input bit string of length n\n",
    "    if b == 'random':\n",
    "        b = np.random.randint(1,2**n)\n",
    "        b_str = format(b, '0'+str(n)+'b')\n",
    "        b_str = b_str[::-1] # reverse b_str to fit qiskit's qubit ordering\n",
    "        for q in range(n):\n",
    "            if b_str[q] == '0':\n",
    "                bv_oracle.i(q)\n",
    "            else:\n",
    "                bv_oracle.cx(q, n)\n",
    "    #if b (the input bit string) is defined then use it \n",
    "    \n",
    "    else:\n",
    "        b= b[::-1] # reverse b_str to fit qiskit's qubit ordering\n",
    "        for p in range(n):\n",
    "            #if bit string is 0 apply identity\n",
    "            if b[p] == '0':\n",
    "                bv_oracle.i(p)\n",
    "            #if the ith bit string is 1 apply CNOT from the ith qubit (control) to the auxiliary qubit (target)\n",
    "            else:\n",
    "                bv_oracle.cx(p, n)\n",
    "    oracle_gate = bv_oracle.to_gate()\n",
    "    oracle_gate.name = \"Oracle\" # To show when we display the circuit\n",
    "    return oracle_gate"
   ]
  },
  {
   "cell_type": "code",
   "execution_count": 25,
   "id": "b6a299ba",
   "metadata": {},
   "outputs": [],
   "source": [
    "def bv_algorithm(oracle,n):\n",
    "    # We need a circuit with n qubits, plus one auxiliary qubit\n",
    "    # Also need n classical bits to write the output to\n",
    "    bv_circuit = QuantumCircuit(n+1, n)\n",
    "\n",
    "    # put auxiliary in state |->\n",
    "    bv_circuit.h(n)\n",
    "    bv_circuit.z(n)\n",
    "\n",
    "    # Apply Hadamard gates before querying the oracle\n",
    "    for i in range(n):\n",
    "        bv_circuit.h(i)\n",
    "    \n",
    "    # Apply barrier \n",
    "    bv_circuit.barrier()\n",
    "    \n",
    "    # Let's append the oracle gate to our circuit:\n",
    "    bv_circuit.append(oracle, range(n+1))\n",
    "    \n",
    "    # Apply barrier \n",
    "    bv_circuit.barrier()\n",
    "\n",
    "    #Apply Hadamard gates after querying the oracle\n",
    "    for i in range(n):\n",
    "        bv_circuit.h(i)\n",
    "\n",
    "    # Measurement\n",
    "    for i in range(n):\n",
    "        bv_circuit.measure(i, i)\n",
    "\n",
    "    return bv_circuit\n",
    "    \n",
    "    "
   ]
  },
  {
   "cell_type": "code",
   "execution_count": 55,
   "id": "24af02b5",
   "metadata": {},
   "outputs": [
    {
     "data": {
      "text/html": [
       "<pre style=\"word-wrap: normal;white-space: pre;background: #fff0;line-height: 1.1;font-family: &quot;Courier New&quot;,Courier,monospace\">     ┌───┐      ░ ┌─────────┐ ░ ┌───┐┌─┐         \n",
       "q_0: ┤ H ├──────░─┤0        ├─░─┤ H ├┤M├─────────\n",
       "     ├───┤      ░ │         │ ░ ├───┤└╥┘┌─┐      \n",
       "q_1: ┤ H ├──────░─┤1        ├─░─┤ H ├─╫─┤M├──────\n",
       "     ├───┤      ░ │         │ ░ ├───┤ ║ └╥┘┌─┐   \n",
       "q_2: ┤ H ├──────░─┤2 Oracle ├─░─┤ H ├─╫──╫─┤M├───\n",
       "     ├───┤      ░ │         │ ░ ├───┤ ║  ║ └╥┘┌─┐\n",
       "q_3: ┤ H ├──────░─┤3        ├─░─┤ H ├─╫──╫──╫─┤M├\n",
       "     ├───┤┌───┐ ░ │         │ ░ └───┘ ║  ║  ║ └╥┘\n",
       "q_4: ┤ H ├┤ Z ├─░─┤4        ├─░───────╫──╫──╫──╫─\n",
       "     └───┘└───┘ ░ └─────────┘ ░       ║  ║  ║  ║ \n",
       "c_0: ═════════════════════════════════╩══╬══╬══╬═\n",
       "                                         ║  ║  ║ \n",
       "c_1: ════════════════════════════════════╩══╬══╬═\n",
       "                                            ║  ║ \n",
       "c_2: ═══════════════════════════════════════╩══╬═\n",
       "                                               ║ \n",
       "c_3: ══════════════════════════════════════════╩═\n",
       "                                                 </pre>"
      ],
      "text/plain": [
       "     ┌───┐      ░ ┌─────────┐ ░ ┌───┐┌─┐         \n",
       "q_0: ┤ H ├──────░─┤0        ├─░─┤ H ├┤M├─────────\n",
       "     ├───┤      ░ │         │ ░ ├───┤└╥┘┌─┐      \n",
       "q_1: ┤ H ├──────░─┤1        ├─░─┤ H ├─╫─┤M├──────\n",
       "     ├───┤      ░ │         │ ░ ├───┤ ║ └╥┘┌─┐   \n",
       "q_2: ┤ H ├──────░─┤2 Oracle ├─░─┤ H ├─╫──╫─┤M├───\n",
       "     ├───┤      ░ │         │ ░ ├───┤ ║  ║ └╥┘┌─┐\n",
       "q_3: ┤ H ├──────░─┤3        ├─░─┤ H ├─╫──╫──╫─┤M├\n",
       "     ├───┤┌───┐ ░ │         │ ░ └───┘ ║  ║  ║ └╥┘\n",
       "q_4: ┤ H ├┤ Z ├─░─┤4        ├─░───────╫──╫──╫──╫─\n",
       "     └───┘└───┘ ░ └─────────┘ ░       ║  ║  ║  ║ \n",
       "c_0: ═════════════════════════════════╩══╬══╬══╬═\n",
       "                                         ║  ║  ║ \n",
       "c_1: ════════════════════════════════════╩══╬══╬═\n",
       "                                            ║  ║ \n",
       "c_2: ═══════════════════════════════════════╩══╬═\n",
       "                                               ║ \n",
       "c_3: ══════════════════════════════════════════╩═\n",
       "                                                 "
      ]
     },
     "execution_count": 55,
     "metadata": {},
     "output_type": "execute_result"
    }
   ],
   "source": [
    "n=4\n",
    "oracle_gate = bv_oracle(n, '0010')\n",
    "bv_circuit = bv_algorithm(oracle_gate, n)\n",
    "bv_circuit.draw()\n"
   ]
  },
  {
   "cell_type": "code",
   "execution_count": 56,
   "id": "a288b5f7",
   "metadata": {},
   "outputs": [
    {
     "data": {
      "image/png": "[encoded data removed]",
      "text/plain": [
       "<Figure size 504x360 with 1 Axes>"
      ]
     },
     "execution_count": 56,
     "metadata": {},
     "output_type": "execute_result"
    }
   ],
   "source": [
    "#simulate the case of 4 input qubits on the noisless simulator\n",
    "#then simulate on 2 different quantum computers with noise \n",
    "\n",
    "#noisless simulations\n",
    "\n",
    "simulator = Aer.get_backend('aer_simulator_stabilizer')\n",
    "circ = transpile(bv_circuit, simulator)\n",
    "\n",
    "# Run and get counts\n",
    "result = simulator.run(circ).result()\n",
    "counts = result.get_counts(circ)\n",
    "\n",
    "plot_histogram(counts, title=\"Naer_simulator\")"
   ]
  },
  {
   "cell_type": "code",
   "execution_count": 51,
   "id": "41e948c0",
   "metadata": {},
   "outputs": [
    {
     "name": "stderr",
     "output_type": "stream",
     "text": [
      "/var/folders/05/9y6gplnj7kg_9m62mlq2tlqr0000gn/T/ipykernel_22338/1556141948.py:2: DeprecationWarning: The module 'qiskit.test.mock' is deprecated since Qiskit Terra 0.21.0, and will be removed 3 months or more later. Instead, you should import the desired object directly 'qiskit.providers.fake_provider'.\n",
      "  from qiskit.test.mock import FakeVigo,FakeCasablanca\n"
     ]
    },
    {
     "data": {
      "image/png": "[encoded data removed]",
      "text/plain": [
       "<Figure size 504x360 with 1 Axes>"
      ]
     },
     "execution_count": 51,
     "metadata": {},
     "output_type": "execute_result"
    }
   ],
   "source": [
    "#use of noisy simulator\n",
    "from qiskit.test.mock import FakeVigo,FakeCasablanca\n",
    "device_backend = FakeVigo()\n",
    "\n",
    "# Transpile the circuit for the noisy basis gates\n",
    "sim_vigo = AerSimulator.from_backend(device_backend)\n",
    "tcirc = transpile(bv_circuit, sim_vigo)\n",
    "\n",
    "# Execute noisy simulation and get counts\n",
    "result_noise = sim_vigo.run(tcirc).result()\n",
    "counts_noise = result_noise.get_counts(0)\n",
    "plot_histogram(counts_noise,\n",
    "               title=\"Counts for 3-qubit GHZ state with device noise model\")\n",
    "\n",
    "\n"
   ]
  },
  {
   "cell_type": "code",
   "execution_count": 52,
   "id": "13337b83",
   "metadata": {},
   "outputs": [
    {
     "data": {
      "image/png": "[encoded data removed]",
      "text/plain": [
       "<Figure size 504x360 with 1 Axes>"
      ]
     },
     "execution_count": 52,
     "metadata": {},
     "output_type": "execute_result"
    }
   ],
   "source": [
    "device_backend = FakeCasablanca()\n",
    "\n",
    "# Transpile the circuit for the noisy basis gates\n",
    "sim_casa = AerSimulator.from_backend(device_backend)\n",
    "tcirc = transpile(dj_circuit, sim_vigo)\n",
    "\n",
    "# Execute noisy simulation and get counts\n",
    "result_noise = sim_casa.run(tcirc).result()\n",
    "counts_noise = result_noise.get_counts(0)\n",
    "plot_histogram(counts_noise,\n",
    "               title=\"Counts for 4-qubit GHZ state with device noise model\")\n"
   ]
  },
  {
   "cell_type": "code",
   "execution_count": 53,
   "id": "15ec6e62",
   "metadata": {},
   "outputs": [
    {
     "data": {
      "image/png": "[encoded data removed]",
      "text/plain": [
       "<Figure size 432x288 with 1 Axes>"
      ]
     },
     "metadata": {
      "needs_background": "light"
     },
     "output_type": "display_data"
    }
   ],
   "source": [
    "import time\n",
    "import matplotlib.pyplot as plt\n",
    "\n",
    "#calculate execution time for different oracles \n",
    "\n",
    "time_for_diff_oracles=[]\n",
    "for i in range(20):\n",
    "    start_time = time.time()\n",
    "    n=2\n",
    "    b = np.random.randint(1,2**n)\n",
    "    b_str = format(b, '0'+str(n)+'b')\n",
    "    oracle_gate = bv_oracle(n,b_str)\n",
    "    bv_circuit = bv_algorithm(oracle_gate, n)\n",
    "    time_for_diff_oracles.append(time.time()-start_time)\n",
    "    \n",
    "plt.plot(range(20),time_for_diff_oracles,\"o\")\n",
    "plt.xlabel(\"Oracle number (# qubits passed in oracle=2)\")\n",
    "plt.ylabel(\"Execusion time (s)\")\n",
    "plt.savefig(\"oracle_execusion_bv.pdf\")\n",
    "plt.show()"
   ]
  },
  {
   "cell_type": "code",
   "execution_count": 54,
   "id": "3778647a",
   "metadata": {},
   "outputs": [
    {
     "data": {
      "image/png": "[encoded data removed]",
      "text/plain": [
       "<Figure size 432x288 with 1 Axes>"
      ]
     },
     "metadata": {
      "needs_background": "light"
     },
     "output_type": "display_data"
    }
   ],
   "source": [
    "#calculate execution time for different number of input qubits\n",
    "\n",
    "time_for_diff_n=[]\n",
    "for i in np.arange(1,30,1):\n",
    "    start_time = time.time()\n",
    "    n=i\n",
    "    b = np.random.randint(1,2**n)\n",
    "    b_str = format(b, '0'+str(n)+'b')\n",
    "    oracle_gate = bv_oracle(n,b_str)\n",
    "    bv_circuit = bv_algorithm(oracle_gate, n)\n",
    "    time_for_diff_n.append(time.time()-start_time)\n",
    "    \n",
    "plt.plot(np.arange(1,30,1),time_for_diff_n,\"o\")\n",
    "plt.xlabel(\"Number of qubits passed in oracle\")\n",
    "plt.ylabel(\"Execusion time (s)\") \n",
    "plt.savefig(\"n_qubit_execusion_bv.pdf\")\n",
    "plt.show()"
   ]
  },
  {
   "cell_type": "code",
   "execution_count": null,
   "id": "d24c09e4",
   "metadata": {},
   "outputs": [],
   "source": []
  }
 ],
 "metadata": {
  "kernelspec": {
   "display_name": "Python 3 (ipykernel)",
   "language": "python",
   "name": "python3"
  },
  "language_info": {
   "codemirror_mode": {
    "name": "ipython",
    "version": 3
   },
   "file_extension": ".py",
   "mimetype": "text/x-python",
   "name": "python",
   "nbconvert_exporter": "python",
   "pygments_lexer": "ipython3",
   "version": "3.9.7"
  }
 },
 "nbformat": 4,
 "nbformat_minor": 5
}
