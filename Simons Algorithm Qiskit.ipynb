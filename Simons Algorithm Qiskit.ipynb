{
 "cells": [
  {
   "cell_type": "code",
   "execution_count": 1,
   "id": "a7230fe3",
   "metadata": {},
   "outputs": [],
   "source": [
    "import qiskit\n",
    "import numpy as np\n",
    "from qiskit.providers.ibmq import least_busy\n",
    "from qiskit import QuantumCircuit, assemble, transpile\n",
    "from qiskit.visualization import plot_histogram\n",
    "from qiskit import IBMQ, Aer\n",
    "from qiskit.providers.aer import AerSimulator"
   ]
  },
  {
   "cell_type": "code",
   "execution_count": 152,
   "id": "5c0822a2",
   "metadata": {},
   "outputs": [],
   "source": [
    "def simons_oracle(n, b):\n",
    "    # We need to make a QuantumCircuit object to return\n",
    "    # This circuit has 2*n qubits: n input qubits,\n",
    "    \n",
    "    simons_circ = QuantumCircuit(n*2)\n",
    "    \n",
    "    # reverse b string to fit qiskit's qubit ordering\n",
    "    b=b[::-1]\n",
    "    \n",
    "    #finding the index of the first entry in the secret bit string that is 1\n",
    "    qubit1_index =0\n",
    "    for i in range(n):\n",
    "        if b[i] == '1':\n",
    "            qubit1_index = i\n",
    "            break\n",
    "    \n",
    "    # copying the data of first register to second register\n",
    "    for i in range(n):\n",
    "        simons_circ.cx(i, n+i)\n",
    "        \n",
    "    #applying bit wise X-OR from register 1 to register 2 \n",
    "    #where qubits of first register is 1\n",
    "    for i in range(n):\n",
    "        if b[i] == '1':\n",
    "            simons_circ.cx(qubit1_index,n+i)\n",
    "            \n",
    "    #convert oracle to gates \n",
    "    circ = simons_circ.to_gate()\n",
    "    circ.name = \"Simons Oracle\"\n",
    "    \n",
    "    #reverse secret bitstring to return \n",
    "    b=b[::-1]\n",
    "    return circ,b \n",
    "\n",
    "\n"
   ]
  },
  {
   "cell_type": "code",
   "execution_count": null,
   "id": "8b31996e",
   "metadata": {},
   "outputs": [],
   "source": []
  },
  {
   "cell_type": "code",
   "execution_count": 153,
   "id": "e222e96c",
   "metadata": {},
   "outputs": [],
   "source": [
    "def simons_algorithm(oracle,n):\n",
    "    # add n qubits for a the second register\n",
    "    simons_circ = QuantumCircuit(n*2, n)\n",
    "    \n",
    "    # applying H-gate on qubits of first register\n",
    "    for qubit in range(n):\n",
    "        simons_circ.h(qubit)\n",
    "    \n",
    "    # Let's append the oracle gate to our circuit:\n",
    "    simons_circ.append(oracle[0], range(2*n))\n",
    "    \n",
    "    # applying again H-gate on qubits of first register\n",
    "    for qubit in range(n):\n",
    "        simons_circ.h(qubit)\n",
    "    \n",
    "    #measure qubits of first register\n",
    "    for i in range(n):\n",
    "        simons_circ.measure(i, i)\n",
    "    \n",
    "    return simons_circ"
   ]
  },
  {
   "cell_type": "code",
   "execution_count": 162,
   "id": "dfa3c280",
   "metadata": {},
   "outputs": [
    {
     "data": {
      "text/html": [
       "<pre style=\"word-wrap: normal;white-space: pre;background: #fff0;line-height: 1.1;font-family: &quot;Courier New&quot;,Courier,monospace\">     ┌───┐┌────────────────┐┌───┐┌─┐   \n",
       "q_0: ┤ H ├┤0               ├┤ H ├┤M├───\n",
       "     ├───┤│                │├───┤└╥┘┌─┐\n",
       "q_1: ┤ H ├┤1               ├┤ H ├─╫─┤M├\n",
       "     └───┘│  Simons Oracle │└───┘ ║ └╥┘\n",
       "q_2: ─────┤2               ├──────╫──╫─\n",
       "          │                │      ║  ║ \n",
       "q_3: ─────┤3               ├──────╫──╫─\n",
       "          └────────────────┘      ║  ║ \n",
       "c_0: ═════════════════════════════╩══╬═\n",
       "                                     ║ \n",
       "c_1: ════════════════════════════════╩═\n",
       "                                       </pre>"
      ],
      "text/plain": [
       "     ┌───┐┌────────────────┐┌───┐┌─┐   \n",
       "q_0: ┤ H ├┤0               ├┤ H ├┤M├───\n",
       "     ├───┤│                │├───┤└╥┘┌─┐\n",
       "q_1: ┤ H ├┤1               ├┤ H ├─╫─┤M├\n",
       "     └───┘│  Simons Oracle │└───┘ ║ └╥┘\n",
       "q_2: ─────┤2               ├──────╫──╫─\n",
       "          │                │      ║  ║ \n",
       "q_3: ─────┤3               ├──────╫──╫─\n",
       "          └────────────────┘      ║  ║ \n",
       "c_0: ═════════════════════════════╩══╬═\n",
       "                                     ║ \n",
       "c_1: ════════════════════════════════╩═\n",
       "                                       "
      ]
     },
     "execution_count": 162,
     "metadata": {},
     "output_type": "execute_result"
    }
   ],
   "source": [
    "n=2\n",
    "oracle_gate = simons_oracle(n,'1100')\n",
    "simons_circuit = simons_algorithm(oracle_gate, n)\n",
    "simons_circuit.draw()"
   ]
  },
  {
   "cell_type": "code",
   "execution_count": 163,
   "id": "7b4de94a",
   "metadata": {},
   "outputs": [
    {
     "data": {
      "image/png": "[encoded data removed]",
      "text/plain": [
       "<Figure size 504x360 with 1 Axes>"
      ]
     },
     "execution_count": 163,
     "metadata": {},
     "output_type": "execute_result"
    }
   ],
   "source": [
    "#simulate the case of 4 input qubits on the noisless simulator\n",
    "#then simulate on 2 different quantum computers with noise \n",
    "\n",
    "#noisless simulations\n",
    "\n",
    "simulator = Aer.get_backend('aer_simulator_stabilizer')\n",
    "circ = transpile(simons_circuit, simulator)\n",
    "\n",
    "# Run and get counts\n",
    "result = simulator.run(circ).result()\n",
    "counts = result.get_counts(circ)\n",
    "\n",
    "plot_histogram(counts, title=\"aer_simulator\")"
   ]
  },
  {
   "cell_type": "code",
   "execution_count": 167,
   "id": "fc265da6",
   "metadata": {},
   "outputs": [
    {
     "ename": "IndexError",
     "evalue": "string index out of range",
     "output_type": "error",
     "traceback": [
      "\u001b[0;31m---------------------------------------------------------------------------\u001b[0m",
      "\u001b[0;31mIndexError\u001b[0m                                Traceback (most recent call last)",
      "\u001b[0;32m/var/folders/05/9y6gplnj7kg_9m62mlq2tlqr0000gn/T/ipykernel_22670/934282434.py\u001b[0m in \u001b[0;36m<module>\u001b[0;34m\u001b[0m\n\u001b[1;32m      6\u001b[0m \u001b[0;34m\u001b[0m\u001b[0m\n\u001b[1;32m      7\u001b[0m \u001b[0;32mfor\u001b[0m \u001b[0mz\u001b[0m \u001b[0;32min\u001b[0m \u001b[0mcounts\u001b[0m\u001b[0;34m:\u001b[0m\u001b[0;34m\u001b[0m\u001b[0;34m\u001b[0m\u001b[0m\n\u001b[0;32m----> 8\u001b[0;31m     \u001b[0mprint\u001b[0m\u001b[0;34m(\u001b[0m \u001b[0;34m'{}.{} = {} (mod 2)'\u001b[0m\u001b[0;34m.\u001b[0m\u001b[0mformat\u001b[0m\u001b[0;34m(\u001b[0m\u001b[0moracle_gate\u001b[0m\u001b[0;34m[\u001b[0m\u001b[0;36m1\u001b[0m\u001b[0;34m]\u001b[0m\u001b[0;34m,\u001b[0m \u001b[0mz\u001b[0m\u001b[0;34m,\u001b[0m \u001b[0mbdotz\u001b[0m\u001b[0;34m(\u001b[0m\u001b[0moracle_gate\u001b[0m\u001b[0;34m[\u001b[0m\u001b[0;36m1\u001b[0m\u001b[0;34m]\u001b[0m\u001b[0;34m,\u001b[0m\u001b[0mz\u001b[0m\u001b[0;34m)\u001b[0m\u001b[0;34m)\u001b[0m \u001b[0;34m)\u001b[0m\u001b[0;34m\u001b[0m\u001b[0;34m\u001b[0m\u001b[0m\n\u001b[0m",
      "\u001b[0;32m/var/folders/05/9y6gplnj7kg_9m62mlq2tlqr0000gn/T/ipykernel_22670/934282434.py\u001b[0m in \u001b[0;36mbdotz\u001b[0;34m(b, z)\u001b[0m\n\u001b[1;32m      2\u001b[0m     \u001b[0mk\u001b[0m \u001b[0;34m=\u001b[0m \u001b[0;36m0\u001b[0m\u001b[0;34m\u001b[0m\u001b[0;34m\u001b[0m\u001b[0m\n\u001b[1;32m      3\u001b[0m     \u001b[0;32mfor\u001b[0m \u001b[0mi\u001b[0m \u001b[0;32min\u001b[0m \u001b[0mrange\u001b[0m\u001b[0;34m(\u001b[0m\u001b[0mlen\u001b[0m\u001b[0;34m(\u001b[0m\u001b[0mb\u001b[0m\u001b[0;34m)\u001b[0m\u001b[0;34m)\u001b[0m\u001b[0;34m:\u001b[0m\u001b[0;34m\u001b[0m\u001b[0;34m\u001b[0m\u001b[0m\n\u001b[0;32m----> 4\u001b[0;31m         \u001b[0mk\u001b[0m \u001b[0;34m+=\u001b[0m \u001b[0mint\u001b[0m\u001b[0;34m(\u001b[0m\u001b[0mb\u001b[0m\u001b[0;34m[\u001b[0m\u001b[0mi\u001b[0m\u001b[0;34m]\u001b[0m\u001b[0;34m)\u001b[0m \u001b[0;34m*\u001b[0m \u001b[0mint\u001b[0m\u001b[0;34m(\u001b[0m\u001b[0mz\u001b[0m\u001b[0;34m[\u001b[0m\u001b[0mi\u001b[0m\u001b[0;34m]\u001b[0m\u001b[0;34m)\u001b[0m\u001b[0;34m\u001b[0m\u001b[0;34m\u001b[0m\u001b[0m\n\u001b[0m\u001b[1;32m      5\u001b[0m     \u001b[0;32mreturn\u001b[0m \u001b[0;34m(\u001b[0m\u001b[0mk\u001b[0m \u001b[0;34m%\u001b[0m \u001b[0;36m2\u001b[0m\u001b[0;34m)\u001b[0m\u001b[0;34m\u001b[0m\u001b[0;34m\u001b[0m\u001b[0m\n\u001b[1;32m      6\u001b[0m \u001b[0;34m\u001b[0m\u001b[0m\n",
      "\u001b[0;31mIndexError\u001b[0m: string index out of range"
     ]
    }
   ],
   "source": [
    "def bdotz(b, z):\n",
    "    k = 0\n",
    "    for i in range(len(b)):\n",
    "        k += int(b[i]) * int(z[i])\n",
    "    return (k % 2)\n",
    "\n",
    "for z in counts:\n",
    "    print( '{}.{} = {} (mod 2)'.format(oracle_gate[1], z, bdotz(oracle_gate[1],z)) )"
   ]
  },
  {
   "cell_type": "code",
   "execution_count": 168,
   "id": "3834166b",
   "metadata": {},
   "outputs": [
    {
     "name": "stderr",
     "output_type": "stream",
     "text": [
      "/var/folders/05/9y6gplnj7kg_9m62mlq2tlqr0000gn/T/ipykernel_22670/2955900077.py:2: DeprecationWarning: The module 'qiskit.test.mock' is deprecated since Qiskit Terra 0.21.0, and will be removed 3 months or more later. Instead, you should import the desired object directly 'qiskit.providers.fake_provider'.\n",
      "  from qiskit.test.mock import FakeVigo,FakeCasablanca\n"
     ]
    },
    {
     "data": {
      "image/png": "[encoded data removed]",
      "text/plain": [
       "<Figure size 504x360 with 1 Axes>"
      ]
     },
     "execution_count": 168,
     "metadata": {},
     "output_type": "execute_result"
    }
   ],
   "source": [
    "#use of noisy simulator\n",
    "from qiskit.test.mock import FakeVigo,FakeCasablanca\n",
    "device_backend = FakeVigo()\n",
    "\n",
    "# Transpile the circuit for the noisy basis gates\n",
    "sim_vigo = AerSimulator.from_backend(device_backend)\n",
    "tcirc = transpile(simons_circuit, sim_vigo)\n",
    "\n",
    "# Execute noisy simulation and get counts\n",
    "result_noise = sim_vigo.run(tcirc).result()\n",
    "counts_noise = result_noise.get_counts(0)\n",
    "plot_histogram(counts_noise,\n",
    "               title=\"Counts for 2-qubit GHZ state with device noise model\")\n",
    "\n"
   ]
  },
  {
   "cell_type": "code",
   "execution_count": 169,
   "id": "b44e49bd",
   "metadata": {},
   "outputs": [
    {
     "data": {
      "image/png": "[encoded data removed]",
      "text/plain": [
       "<Figure size 504x360 with 1 Axes>"
      ]
     },
     "execution_count": 169,
     "metadata": {},
     "output_type": "execute_result"
    }
   ],
   "source": [
    "device_backend = FakeCasablanca()\n",
    "\n",
    "# Transpile the circuit for the noisy basis gates\n",
    "sim_casa = AerSimulator.from_backend(device_backend)\n",
    "tcirc = transpile(simons_circuit, sim_vigo)\n",
    "\n",
    "# Execute noisy simulation and get counts\n",
    "result_noise = sim_casa.run(tcirc).result()\n",
    "counts_noise = result_noise.get_counts(0)\n",
    "plot_histogram(counts_noise,\n",
    "               title=\"Counts for 2-qubit GHZ state with device noise model\")\n"
   ]
  },
  {
   "cell_type": "code",
   "execution_count": 218,
   "id": "71476808",
   "metadata": {},
   "outputs": [
    {
     "data": {
      "image/png": "[encoded data removed]",
      "text/plain": [
       "<Figure size 432x288 with 1 Axes>"
      ]
     },
     "metadata": {
      "needs_background": "light"
     },
     "output_type": "display_data"
    }
   ],
   "source": [
    "import time\n",
    "import matplotlib.pyplot as plt\n",
    "time_for_diff_oracles=[]\n",
    "for i in range(20):\n",
    "    start_time = time.time()\n",
    "    n=2\n",
    "    b = np.random.randint(1,2**n)\n",
    "    b_str = format(b, '0'+str(n)+'b')\n",
    "    oracle_gate = simons_oracle(n,b_str)\n",
    "    simons_circuit = simons_algorithm(oracle_gate, n)\n",
    "    time_for_diff_oracles.append(time.time()-start_time)\n",
    "    \n",
    "plt.plot(range(20),time_for_diff_oracles,\"o\")\n",
    "plt.xlabel(\"Oracle number (# qubits passed in oracle=2)\")\n",
    "plt.ylabel(\"Execusion time (s)\")\n",
    "plt.savefig(\"oracle_execusion_simons.pdf\")\n",
    "plt.show()\n",
    "    \n"
   ]
  },
  {
   "cell_type": "code",
   "execution_count": 210,
   "id": "21ff86d8",
   "metadata": {},
   "outputs": [
    {
     "data": {
      "image/png": "[encoded data removed]",
      "text/plain": [
       "<Figure size 432x288 with 1 Axes>"
      ]
     },
     "metadata": {
      "needs_background": "light"
     },
     "output_type": "display_data"
    }
   ],
   "source": [
    "time_for_diff_n=[]\n",
    "for i in np.arange(1,30,1):\n",
    "    start_time = time.time()\n",
    "    n=i\n",
    "    b = np.random.randint(1,2**n)\n",
    "    b_str = format(b, '0'+str(n)+'b')\n",
    "    oracle_gate = simons_oracle(n,b_str)\n",
    "    simons_circuit = simons_algorithm(oracle_gate, n)\n",
    "    time_for_diff_n.append(time.time()-start_time)\n",
    "    \n",
    "plt.plot(np.arange(1,30,1),time_for_diff_n,\"o\")\n",
    "plt.xlabel(\"Number of qubits passed in oracle\")\n",
    "plt.ylabel(\"Execusion time (s)\") \n",
    "plt.savefig(\"n_qubit_execusion_simons.pdf\")\n",
    "plt.show()"
   ]
  }
 ],
 "metadata": {
  "kernelspec": {
   "display_name": "Python 3 (ipykernel)",
   "language": "python",
   "name": "python3"
  },
  "language_info": {
   "codemirror_mode": {
    "name": "ipython",
    "version": 3
   },
   "file_extension": ".py",
   "mimetype": "text/x-python",
   "name": "python",
   "nbconvert_exporter": "python",
   "pygments_lexer": "ipython3",
   "version": "3.9.7"
  }
 },
 "nbformat": 4,
 "nbformat_minor": 5
}
