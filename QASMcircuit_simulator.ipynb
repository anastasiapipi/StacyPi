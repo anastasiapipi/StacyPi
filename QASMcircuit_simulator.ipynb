{
 "cells": [
  {
   "cell_type": "code",
   "execution_count": 264,
   "id": "b1107248",
   "metadata": {},
   "outputs": [],
   "source": [
    "import numpy as np\n",
    "import time\n",
    "\n",
    "time_for_diff_files=[]\n",
    "time_for_diff_files0=[]\n",
    "n_0=[]"
   ]
  },
  {
   "cell_type": "code",
   "execution_count": 265,
   "id": "4f5ba48a",
   "metadata": {},
   "outputs": [],
   "source": [
    "#create initial state \n",
    "#create list that keeps track of the state amplitudes\n",
    "def initial(n):\n",
    "    amp=[1]\n",
    "    states=[np.zeros(n)]\n",
    "    return states,amp\n",
    "\n",
    "#X gate\n",
    "def X(b,j):\n",
    "    for k in b:\n",
    "        if k[j]==0:\n",
    "            k[j]=1\n",
    "        elif k[j]==1:\n",
    "            k[j]=0\n",
    "        else:\n",
    "            print('error')\n",
    "    return b\n",
    "\n",
    "#Hadamard gate\n",
    "def H(b,j,amp):\n",
    "    b_new=[]\n",
    "    amp_new=[]\n",
    "    for n,k in enumerate(b):\n",
    "        if(k[j] == 1):\n",
    "            amp[n]=amp[n]*(-1/np.sqrt(2))\n",
    "            l=np.array(k)\n",
    "            l[j]=0\n",
    "            b_new.append(l)\n",
    "            amp_new.append(-amp[n])\n",
    "        \n",
    "        elif(k[j] == 0):\n",
    "            amp[n]=amp[n]*(1/np.sqrt(2))\n",
    "            l=np.array(k)\n",
    "            l[j]=1.0\n",
    "            b_new.append(l)\n",
    "            amp_new.append(amp[n])\n",
    "        \n",
    "        else:\n",
    "            print('error')\n",
    "    \n",
    "    #combine amplitudes of identical states \n",
    "    for m,p in enumerate(b):\n",
    "        for f,s in enumerate(b_new):\n",
    "            if np.allclose(s,p)==True:\n",
    "                amp[m]+=amp_new[f]\n",
    "                amp_new.pop(f)\n",
    "                b_new.pop(f)\n",
    "                \n",
    "            else:\n",
    "                continue\n",
    "     \n",
    "    for l in range(len(b_new)):\n",
    "        if len(b_new)!=0:\n",
    "            b.append(b_new[l])\n",
    "            amp.append(amp_new[l])\n",
    "        else:\n",
    "            break\n",
    "            \n",
    "    for p,z in enumerate(amp):\n",
    "        if np.allclose(np.array([z]),np.array([0]),atol=1e-08)==True:\n",
    "            amp.pop(p)\n",
    "            b.pop(p)\n",
    "        else:\n",
    "            continue\n",
    "            \n",
    "    \n",
    "    \n",
    "    return b,amp\n",
    "\n",
    "\n",
    "        \n",
    "#T gate        \n",
    "def T(b,j,amp):\n",
    "    #print(b[0])\n",
    "    for n,k in enumerate(b):\n",
    "        #print(k,'this')\n",
    "        if(k[j] == 1):\n",
    "            amp[n]=amp[n]* np.exp(1.0j*np.pi*0.25)\n",
    "        else:\n",
    "            continue\n",
    "    return b,amp\n",
    "        \n",
    "#T dagger gate        \n",
    "def D(b,j,amp):\n",
    "    for n,k in enumerate(b):\n",
    "        if(k[j] == 1):\n",
    "            amp[n] =amp[n]* np.exp(-1.0j*np.pi*0.25)\n",
    "        else:\n",
    "            continue\n",
    "    return b,amp\n",
    "\n",
    "#CNOT gate\n",
    "def CNOT(b,control,target):\n",
    "    for n,k in enumerate(b):\n",
    "        if(k[control] == 1):\n",
    "            if k[target]==0:\n",
    "                k[target]=1\n",
    "            elif k[target]==1:\n",
    "                k[target]=0\n",
    "            else:\n",
    "                print('error')\n",
    "        else:\n",
    "            continue\n",
    "    return b\n",
    "            \n",
    "\n",
    "\n",
    "            \n"
   ]
  },
  {
   "cell_type": "code",
   "execution_count": 286,
   "id": "11774382",
   "metadata": {},
   "outputs": [
    {
     "name": "stdout",
     "output_type": "stream",
     "text": [
      "Result:['0', '0', '0', '0', '0', '0', '0', '0', '0', '0', '0', '0', '0', '0', '0', '0']\n"
     ]
    }
   ],
   "source": [
    "#list containing names of all 14 files given in instructions\n",
    "all_files=['miller_11.qasm','decod24-v2_43.qasm','one-two-three-v3_101.qasm','hwb5_53.qasm','alu-bdd_288.qasm','f2_232.qasm','con1_216.qasm','mini_alu_305.qasm','rd84_142.qasm','wim_266.qasm','cm152a_212.qasm','squar5_261.qasm','sym6_316.qasm','cnt3-5_179.qasm']\n",
    "#start_time = time.time()\n",
    "\n",
    "#INPUT\n",
    "#name of file to read\n",
    "file_name = all_files[13]\n",
    "f = open(file_name)\n",
    "ff = f.read()\n",
    "str_lines = ff.split(\";\\n\")\n",
    "\n",
    "num_qubits=str_lines[2]\n",
    "\n",
    "#number of qubits to simulate\n",
    "n0 = num_qubits.split('[')[1].split(']')[0]\n",
    "\n",
    "#create initial state and amplitude list\n",
    "state, A =initial(int(n0))\n",
    "\n",
    "#read file and complete executions\n",
    "for lines in str_lines:\n",
    "    k=lines.split()\n",
    "    \n",
    "    if len(k)!=0:\n",
    "        #apply hadamard if line starts with 'h'\n",
    "        if k[0] == 'h':\n",
    "            #print(k[1])\n",
    "            #print(state,A)\n",
    "            p = k[1].split('[')[1].split(']')[0]\n",
    "        \n",
    "            state,A=H(state,int(p),A)\n",
    "            #print(state,A)\n",
    "        #apply CNOT if line starts with 'cx\n",
    "        elif k[0] == 'cx':\n",
    "            c = k[1].split('[')[1].split(']')[0]\n",
    "            t = k[1].split(']')[1].split('[')[1]\n",
    "        \n",
    "            state=CNOT(state,int(c),int(t))\n",
    "        \n",
    "        #apply T if line starts with 't'\n",
    "        elif k[0] == 't':\n",
    "            p = k[1].split('[')[1].split(']')[0]\n",
    "            \n",
    "            state,A=T(state,int(p),A)\n",
    "        \n",
    "        #apply T dagger if line starts with 'tdg'\n",
    "        elif k[0] == 'tdg':\n",
    "            p = k[1].split('[')[1].split(']')[0]\n",
    "\n",
    "            state,A=D(state,int(p),A)\n",
    "        \n",
    "        #apply X if line starts with 'x'\n",
    "        elif k[0] == 'x':\n",
    "            p = k[1].split('[')[1].split(']')[0]\n",
    "            state=X(state,int(p))\n",
    "        \n",
    "        else :\n",
    "            continue\n",
    "            \n",
    "    #if line does not indicate gate operation continue to next line\n",
    "    else:\n",
    "        continue\n",
    "        \n",
    "    \n",
    "                    \n",
    "    \n",
    "    \n",
    "    \n",
    "    \n",
    "\n",
    "output=np.zeros(int(n0))\n",
    "#obtain final state by multiplying each state with its amplitude and taking the sum\n",
    "for i,vec in enumerate(state):\n",
    "    output=+A[i]*vec\n",
    "\n",
    "final_out=[]\n",
    "\n",
    "for k in output:\n",
    "    if k==0:\n",
    "        final_out.append('0')\n",
    "    else:\n",
    "        final_out.append('1')\n",
    "\n",
    "#OUTPUT\n",
    "print('Result:'+str(final_out))\n",
    "\n",
    "#time_for_diff_files0.append(time.time()-start_time)\n",
    "#n_0.append(n0)\n",
    "\n",
    "\n",
    "\n",
    "    \n",
    "    \n",
    "        \n",
    "  "
   ]
  },
  {
   "cell_type": "code",
   "execution_count": 250,
   "id": "8acc8c49",
   "metadata": {},
   "outputs": [
    {
     "data": {
      "image/png": "[encoded data removed]",
      "text/plain": [
       "<Figure size 432x288 with 1 Axes>"
      ]
     },
     "metadata": {
      "needs_background": "light"
     },
     "output_type": "display_data"
    }
   ],
   "source": [
    "import matplotlib.pyplot as plt\n",
    "#execution time of files\n",
    "plt.plot(np.arange(1,15,1),time_for_diff_files,'o')\n",
    "plt.plot(np.arange(1,15,1),time_for_diff_files)\n",
    "plt.xlabel('File no.')\n",
    "plt.ylabel('Execution time (s)')\n",
    "plt.savefig(\"quant_sim_execution.pdf\")"
   ]
  },
  {
   "cell_type": "code",
   "execution_count": 251,
   "id": "b47ff0a7",
   "metadata": {},
   "outputs": [
    {
     "data": {
      "image/png": "[encoded data removed]",
      "text/plain": [
       "<Figure size 504x360 with 1 Axes>"
      ]
     },
     "execution_count": 251,
     "metadata": {},
     "output_type": "execute_result"
    }
   ],
   "source": [
    "from qiskit import QuantumCircuit, Aer, execute\n",
    "\n",
    "#qiskit simulator to check results\n",
    "\n",
    "sim = Aer.get_backend('aer_simulator')\n",
    "shots=20000\n",
    "new_qc = QuantumCircuit.from_qasm_file(all_files[0])\n",
    "for i in range(16):\n",
    "    new_qc.measure(i,i)\n",
    "\n",
    "qc_trans = transpile(new_qc, sim)\n",
    "count_qc = sim.run(qc_trans, shots=shots).result().get_counts()\n",
    "plot_histogram(count_qc)"
   ]
  },
  {
   "cell_type": "code",
   "execution_count": 284,
   "id": "f57df457",
   "metadata": {},
   "outputs": [
    {
     "data": {
      "image/png": "[encoded data removed]",
      "text/plain": [
       "<Figure size 432x288 with 1 Axes>"
      ]
     },
     "metadata": {
      "needs_background": "light"
     },
     "output_type": "display_data"
    }
   ],
   "source": [
    "#execution time as number of qubits increase\n",
    "plt.plot(n_0,time_for_diff_files0,'o')\n",
    "plt.xlabel('No. of qubits')\n",
    "plt.ylabel(\"Execution time (s)\")\n",
    "plt.savefig(\"qubits_exeution.pdf\")"
   ]
  },
  {
   "cell_type": "code",
   "execution_count": null,
   "id": "69ad2bd0",
   "metadata": {},
   "outputs": [],
   "source": []
  }
 ],
 "metadata": {
  "kernelspec": {
   "display_name": "Python 3 (ipykernel)",
   "language": "python",
   "name": "python3"
  },
  "language_info": {
   "codemirror_mode": {
    "name": "ipython",
    "version": 3
   },
   "file_extension": ".py",
   "mimetype": "text/x-python",
   "name": "python",
   "nbconvert_exporter": "python",
   "pygments_lexer": "ipython3",
   "version": "3.9.7"
  }
 },
 "nbformat": 4,
 "nbformat_minor": 5
}
