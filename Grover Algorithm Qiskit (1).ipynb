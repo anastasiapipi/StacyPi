{
 "cells": [
  {
   "cell_type": "code",
   "execution_count": null,
   "id": "1c7291dd",
   "metadata": {},
   "outputs": [],
   "source": [
    "import qiskit\n",
    "import numpy as np\n",
    "from qiskit.providers.ibmq import least_busy\n",
    "from qiskit import QuantumCircuit, assemble, transpile\n",
    "from qiskit.visualization import plot_histogram\n",
    "from qiskit import IBMQ, Aer\n",
    "import matplotlib.pyplot as plt\n",
    "from qiskit.providers.aer import AerSimulator\n",
    "from qiskit.circuit.library import MCMT"
   ]
  },
  {
   "cell_type": "code",
   "execution_count": null,
   "id": "a835ac42",
   "metadata": {},
   "outputs": [],
   "source": [
    "#input length of circuit\n",
    "w = '10'\n",
    "n = len(w)"
   ]
  },
  {
   "cell_type": "code",
   "execution_count": null,
   "id": "9b5a66ff",
   "metadata": {},
   "outputs": [],
   "source": [
    "#define grover algorithm\n",
    "def grover_oracle_2(n,b):\n",
    "    grover_circ = QuantumCircuit(n)\n",
    "    if(b == '00'):\n",
    "        grover_circ.cz(0,1)\n",
    "        grover_circ.x(0)\n",
    "        grover_circ.x(1)\n",
    "    if(b == '01'):\n",
    "        grover_circ.cz(0,1)\n",
    "        grover_circ.x(1)\n",
    "    if(b == '10'):\n",
    "        grover_circ.cz(0,1)\n",
    "        grover_circ.x(0)\n",
    "    if(b == '11'):\n",
    "        grover_circ.cz(0,1)\n",
    "        \n",
    "    circ = grover_circ.to_gate()\n",
    "    circ.name = \"Grovers Oracle\"\n",
    "    \n",
    "    return circ \n",
    "        "
   ]
  },
  {
   "cell_type": "code",
   "execution_count": null,
   "id": "36dec12c",
   "metadata": {},
   "outputs": [],
   "source": []
  },
  {
   "cell_type": "code",
   "execution_count": null,
   "id": "021903b6",
   "metadata": {},
   "outputs": [],
   "source": [
    "#define full circuit \n",
    "def grovers_algorithm_2(oracle,n):\n",
    "    circuit = QuantumCircuit(n,n)\n",
    "\n",
    "    #first apply Hadamard on both gates\n",
    "    for i in range(n):\n",
    "        circuit.h(i)\n",
    "\n",
    "\n",
    "    #append oracle to circuit\n",
    "    circuit.append(oracle,range(n))\n",
    "\n",
    "    #apply diffuser\n",
    "    circuit.h([0,1])\n",
    "    circuit.z([0,1])\n",
    "    circuit.cz(0,1)\n",
    "    circuit.h([0,1])\n",
    "\n",
    "    #measure\n",
    "    for i in range(n):\n",
    "        circuit.measure(i,i)\n",
    "\n",
    "    return circuit"
   ]
  },
  {
   "cell_type": "code",
   "execution_count": null,
   "id": "330aa57f",
   "metadata": {},
   "outputs": [],
   "source": [
    "def grover_oracle(n,w):\n",
    "    #define grover algorithm oracles\n",
    "    w = w[::-1]\n",
    "    circ = QuantumCircuit(n)\n",
    "    #define for each case of  qubits the different oracles\n",
    "    #apply x-gate for w[i]=='0'\n",
    "    for i in range(n):\n",
    "        if(w[i]=='0'):\n",
    "            circ.x(i)\n",
    "            \n",
    "    #multi-controlled multi-target gate, for an arbitrary singly controlled target gate.\n",
    "    #using z-gate\n",
    "    circ += MCMT('z', n-1, 1) \n",
    "    \n",
    "    #re-apply x-gate for w[i]=='0'\n",
    "    for i in range(n):\n",
    "        if(w[i]=='0'):\n",
    "            circ.x(i)\n",
    "    return circ\n",
    "        "
   ]
  },
  {
   "cell_type": "code",
   "execution_count": null,
   "id": "b4c02654",
   "metadata": {},
   "outputs": [],
   "source": [
    "def diffuser(n):\n",
    "    c = QuantumCircuit(n)\n",
    "    for i in range(n):\n",
    "        c.x(i)\n",
    "        \n",
    "    c += MCMT('z', n-1, 1)\n",
    "    \n",
    "    for i in range(n):\n",
    "        c.x(i)\n",
    "    return c"
   ]
  },
  {
   "cell_type": "code",
   "execution_count": null,
   "id": "86d270fa",
   "metadata": {},
   "outputs": [],
   "source": [
    "def grovers_algorithm(oracle,n):\n",
    "    #define full circuit \n",
    "    grover_circ = QuantumCircuit(n)\n",
    "\n",
    "    #first apply Hadamard on both gates\n",
    "    for i in range(n):\n",
    "        grover_circ.h(i)\n",
    "    grover_circ.barrier()\n",
    "    #apply oracle\n",
    "    grover_circ.append(oracle, range(n))\n",
    "    grover_circ.barrier()\n",
    "    #apply hadamard\n",
    "    for i in range(n):\n",
    "        grover_circ.h(i)\n",
    "    grover_circ.barrier()\n",
    "    #apply diffuser\n",
    "    grover_circ += diffuser(n)\n",
    "    grover_circ.barrier()\n",
    "    \n",
    "    for i in range(n):\n",
    "        grover_circ.h(i)\n",
    "    #measure\n",
    "    grover_circ.measure_all()\n",
    "    \n",
    "    return grover_circ"
   ]
  },
  {
   "cell_type": "code",
   "execution_count": null,
   "id": "0cc6c993",
   "metadata": {},
   "outputs": [],
   "source": [
    "oracle_gate = grover_oracle(7,'0000100')\n",
    "grovers_circuit = grovers_algorithm(oracle_gate,7)\n",
    "grovers_circuit.draw()"
   ]
  },
  {
   "cell_type": "code",
   "execution_count": null,
   "id": "82f112f2",
   "metadata": {},
   "outputs": [],
   "source": [
    "#noisless simulations\n",
    "\n",
    "simulator = Aer.get_backend('aer_simulator')\n",
    "circ = transpile(grovers_circuit, simulator)\n",
    "\n",
    "# Run and get counts\n",
    "result = simulator.run(circ).result()\n",
    "counts = result.get_counts(circ)\n",
    "\n",
    "plot_histogram(counts, title=\"aer_simulator for Grovers\")"
   ]
  },
  {
   "cell_type": "code",
   "execution_count": null,
   "id": "7d56ad9a",
   "metadata": {},
   "outputs": [],
   "source": [
    "#use of noisy simulator\n",
    "from qiskit.test.mock import FakeVigo\n",
    "device_backend = FakeVigo()\n",
    "\n",
    "# Transpile the circuit for the noisy basis gates\n",
    "sim_vigo = AerSimulator.from_backend(device_backend)\n",
    "tcirc = transpile(grovers_circuit, sim_vigo)\n",
    "\n",
    "# Execute noisy simulation and get counts\n",
    "result_noise = sim_vigo.run(tcirc).result()\n",
    "counts_noise = result_noise.get_counts(0)\n",
    "plot_histogram(counts_noise,title=\"Virgo noisy simulator for Grovers\")\n"
   ]
  },
  {
   "cell_type": "code",
   "execution_count": null,
   "id": "24a5188e",
   "metadata": {},
   "outputs": [],
   "source": [
    "from qiskit.test.mock import FakeVigo,FakeCasablanca\n",
    "device_backend = FakeCasablanca()\n",
    "\n",
    "# Transpile the circuit for the noisy basis gates\n",
    "sim_casa = AerSimulator.from_backend(device_backend)\n",
    "tcirc = transpile(grovers_circuit, sim_vigo)\n",
    "\n",
    "# Execute noisy simulation and get counts\n",
    "result_noise = sim_casa.run(tcirc).result()\n",
    "counts_noise = result_noise.get_counts(0)\n",
    "plot_histogram(counts_noise,\n",
    "               title=\"Casablanca noisy simulator for Grovers\")\n"
   ]
  },
  {
   "cell_type": "code",
   "execution_count": null,
   "id": "7093a37d",
   "metadata": {},
   "outputs": [],
   "source": [
    "import time\n",
    "import matplotlib.pyplot as plt\n",
    "\n",
    "#calculate execution time for different oracles \n",
    "\n",
    "time_for_diff_oracles=[]\n",
    "for i in range(20):\n",
    "    start_time = time.time()\n",
    "    n=2\n",
    "    b = np.random.randint(1,2**n)\n",
    "    b_str = format(b, '0'+str(n)+'b')\n",
    "    oracle_gate = grover_oracle(n,b_str)\n",
    "    bv_circuit = grovers_algorithm(oracle_gate, n)\n",
    "    time_for_diff_oracles.append(time.time()-start_time)\n",
    "    \n",
    "plt.plot(range(20),time_for_diff_oracles,\"o\")\n",
    "plt.xlabel(\"Oracle number (# qubits passed in oracle=2)\")\n",
    "plt.ylabel(\"Execusion time (s)\")\n",
    "plt.savefig(\"oracle_execusion_grover.pdf\")\n",
    "plt.show()"
   ]
  },
  {
   "cell_type": "code",
   "execution_count": null,
   "id": "3db5c52a",
   "metadata": {},
   "outputs": [],
   "source": [
    "#calculate execution time for different number of input qubits\n",
    "\n",
    "time_for_diff_n=[]\n",
    "numbers=[3,4,5,6,7,8,9,10,11,12,13]\n",
    "for i in numbers:\n",
    "    start_time = time.time()\n",
    "    n=i\n",
    "    b = np.random.randint(1,2**n)\n",
    "    b_str = format(b, '0'+str(n)+'b')\n",
    "    oracle_gate = grover_oracle(n,b_str)\n",
    "    grovers_circuit = grovers_algorithm(oracle_gate,n)\n",
    "    time_for_diff_n.append(time.time()-start_time)\n",
    "    \n",
    "plt.plot(numbers,time_for_diff_n,\"o\")\n",
    "plt.xlabel(\"Number of qubits passed in oracle\")\n",
    "plt.ylabel(\"Execusion time (s)\") \n",
    "plt.savefig(\"n_qubit_execusion_grover.pdf\")\n",
    "plt.show()"
   ]
  },
  {
   "cell_type": "code",
   "execution_count": null,
   "id": "48446cc2",
   "metadata": {},
   "outputs": [],
   "source": []
  }
 ],
 "metadata": {
  "kernelspec": {
   "display_name": "Python 3 (ipykernel)",
   "language": "python",
   "name": "python3"
  },
  "language_info": {
   "codemirror_mode": {
    "name": "ipython",
    "version": 3
   },
   "file_extension": ".py",
   "mimetype": "text/x-python",
   "name": "python",
   "nbconvert_exporter": "python",
   "pygments_lexer": "ipython3",
   "version": "3.9.7"
  }
 },
 "nbformat": 4,
 "nbformat_minor": 5
}
