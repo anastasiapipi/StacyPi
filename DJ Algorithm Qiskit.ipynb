{
 "cells": [
  {
   "cell_type": "code",
   "execution_count": 4,
   "id": "e43771a3",
   "metadata": {},
   "outputs": [],
   "source": [
    "import qiskit\n",
    "import numpy as np\n",
    "from qiskit.providers.ibmq import least_busy\n",
    "from qiskit import QuantumCircuit, assemble, transpile\n",
    "from qiskit.visualization import plot_histogram\n",
    "from qiskit import IBMQ, Aer\n",
    "from qiskit.providers.aer import AerSimulator"
   ]
  },
  {
   "cell_type": "code",
   "execution_count": 5,
   "id": "39cb0e5a",
   "metadata": {},
   "outputs": [
    {
     "data": {
      "text/plain": [
       "{'qiskit-terra': '0.22.0', 'qiskit-aer': '0.11.0', 'qiskit-ignis': None, 'qiskit-ibmq-provider': '0.19.2', 'qiskit': '0.39.0', 'qiskit-nature': None, 'qiskit-finance': None, 'qiskit-optimization': None, 'qiskit-machine-learning': None}"
      ]
     },
     "execution_count": 5,
     "metadata": {},
     "output_type": "execute_result"
    }
   ],
   "source": [
    "qiskit.__qiskit_version__"
   ]
  },
  {
   "cell_type": "code",
   "execution_count": 6,
   "id": "a268b8b2",
   "metadata": {},
   "outputs": [],
   "source": [
    "#input length of qubits\n",
    "n = 3"
   ]
  },
  {
   "cell_type": "code",
   "execution_count": 7,
   "id": "79741a84",
   "metadata": {},
   "outputs": [
    {
     "data": {
      "text/html": [
       "<pre style=\"word-wrap: normal;white-space: pre;background: #fff0;line-height: 1.1;font-family: &quot;Courier New&quot;,Courier,monospace\">     \n",
       "q_0: \n",
       "     \n",
       "q_1: \n",
       "     \n",
       "q_2: \n",
       "     \n",
       "q_3: \n",
       "     </pre>"
      ],
      "text/plain": [
       "     \n",
       "q_0: \n",
       "     \n",
       "q_1: \n",
       "     \n",
       "q_2: \n",
       "     \n",
       "q_3: \n",
       "     "
      ]
     },
     "execution_count": 7,
     "metadata": {},
     "output_type": "execute_result"
    }
   ],
   "source": [
    "#create constant oracle \n",
    "#oracle always returns only 0's or only 1's\n",
    "const_oracle = QuantumCircuit(n+1)\n",
    "output = np.random.randint(2)\n",
    "#if output is 1 apply the x-gate to the 0 state\n",
    "if output == 1:\n",
    "    const_oracle.x(n)\n",
    "\n",
    "#draw the constant oracle\n",
    "const_oracle.draw()"
   ]
  },
  {
   "cell_type": "code",
   "execution_count": 8,
   "id": "c47e000b",
   "metadata": {},
   "outputs": [],
   "source": [
    "#create a balanced oracle \n",
    "#input 3 qubits \n",
    "#output 1 qubit\n",
    "n=3\n",
    "balanced_oracle = QuantumCircuit(n+1)\n",
    "#define binary string of length n\n",
    "b_str = '101'\n",
    "    \n",
    "\n",
    "#place x-gates if the corresponding digit in b_str is 1 \n",
    "#do nothing if the digit is 0\n",
    "for i in range(len(b_str)):\n",
    "    if b_str[i] == '1':\n",
    "        balanced_oracle.x(i)\n",
    "\n",
    "balanced_oracle.barrier()\n",
    "\n",
    "#apply contolled-NOT gates using input qubit as control \n",
    "#and output qubit as target\n",
    "for i in range(n):\n",
    "    balanced_oracle.cx(i,n)\n",
    "\n",
    "balanced_oracle.barrier()\n",
    "\n",
    "#place x-gates\n",
    "for i in range(len(b_str)):\n",
    "    if b_str[i] == '1':\n",
    "        balanced_oracle.x(i)"
   ]
  },
  {
   "cell_type": "code",
   "execution_count": 9,
   "id": "bc54ee62",
   "metadata": {},
   "outputs": [
    {
     "name": "stderr",
     "output_type": "stream",
     "text": [
      "/var/folders/05/9y6gplnj7kg_9m62mlq2tlqr0000gn/T/ipykernel_21712/1521144385.py:13: DeprecationWarning: The QuantumCircuit.__iadd__() method is being deprecated. Use the compose() (potentially with the inplace=True argument) and tensor() methods which are more flexible w.r.t circuit register compatibility.\n",
      "  circuit += balanced_oracle\n"
     ]
    },
    {
     "data": {
      "text/html": [
       "<pre style=\"word-wrap: normal;white-space: pre;background: #fff0;line-height: 1.1;font-family: &quot;Courier New&quot;,Courier,monospace\">     ┌───┐┌───┐ ░                 ░ ┌───┐┌───┐ ░ ┌─┐      \n",
       "q_0: ┤ H ├┤ X ├─░───■─────────────░─┤ X ├┤ H ├─░─┤M├──────\n",
       "     ├───┤└───┘ ░   │             ░ ├───┤└───┘ ░ └╥┘┌─┐   \n",
       "q_1: ┤ H ├──────░───┼────■────────░─┤ H ├──────░──╫─┤M├───\n",
       "     ├───┤┌───┐ ░   │    │        ░ ├───┤┌───┐ ░  ║ └╥┘┌─┐\n",
       "q_2: ┤ H ├┤ X ├─░───┼────┼────■───░─┤ X ├┤ H ├─░──╫──╫─┤M├\n",
       "     ├───┤├───┤ ░ ┌─┴─┐┌─┴─┐┌─┴─┐ ░ └───┘└───┘ ░  ║  ║ └╥┘\n",
       "q_3: ┤ X ├┤ H ├─░─┤ X ├┤ X ├┤ X ├─░────────────░──╫──╫──╫─\n",
       "     └───┘└───┘ ░ └───┘└───┘└───┘ ░            ░  ║  ║  ║ \n",
       "c_0: ═════════════════════════════════════════════╩══╬══╬═\n",
       "                                                     ║  ║ \n",
       "c_1: ════════════════════════════════════════════════╩══╬═\n",
       "                                                        ║ \n",
       "c_2: ═══════════════════════════════════════════════════╩═\n",
       "                                                          </pre>"
      ],
      "text/plain": [
       "     ┌───┐┌───┐ ░                 ░ ┌───┐┌───┐ ░ ┌─┐      \n",
       "q_0: ┤ H ├┤ X ├─░───■─────────────░─┤ X ├┤ H ├─░─┤M├──────\n",
       "     ├───┤└───┘ ░   │             ░ ├───┤└───┘ ░ └╥┘┌─┐   \n",
       "q_1: ┤ H ├──────░───┼────■────────░─┤ H ├──────░──╫─┤M├───\n",
       "     ├───┤┌───┐ ░   │    │        ░ ├───┤┌───┐ ░  ║ └╥┘┌─┐\n",
       "q_2: ┤ H ├┤ X ├─░───┼────┼────■───░─┤ X ├┤ H ├─░──╫──╫─┤M├\n",
       "     ├───┤├───┤ ░ ┌─┴─┐┌─┴─┐┌─┴─┐ ░ └───┘└───┘ ░  ║  ║ └╥┘\n",
       "q_3: ┤ X ├┤ H ├─░─┤ X ├┤ X ├┤ X ├─░────────────░──╫──╫──╫─\n",
       "     └───┘└───┘ ░ └───┘└───┘└───┘ ░            ░  ║  ║  ║ \n",
       "c_0: ═════════════════════════════════════════════╩══╬══╬═\n",
       "                                                     ║  ║ \n",
       "c_1: ════════════════════════════════════════════════╩══╬═\n",
       "                                                        ║ \n",
       "c_2: ═══════════════════════════════════════════════════╩═\n",
       "                                                          "
      ]
     },
     "execution_count": 9,
     "metadata": {},
     "output_type": "execute_result"
    }
   ],
   "source": [
    "#full circuit\n",
    "circuit = QuantumCircuit(n+1,n)\n",
    "\n",
    "#Hadamard gates at the beginning\n",
    "for i in range(n):\n",
    "    circuit.h(i)\n",
    "\n",
    "#put in |-> state for q3\n",
    "circuit.x(3)\n",
    "circuit.h(3)\n",
    "\n",
    "# apply oracle\n",
    "circuit += balanced_oracle\n",
    "\n",
    "#apply Hadamard gates at the end \n",
    "for i in range(n):\n",
    "    circuit.h(i)\n",
    "\n",
    "circuit.barrier()\n",
    "\n",
    "#measure qubits\n",
    "for i in range(n):\n",
    "    circuit.measure(i,i)\n",
    "\n",
    "circuit.draw()"
   ]
  },
  {
   "cell_type": "code",
   "execution_count": null,
   "id": "611058b1",
   "metadata": {},
   "outputs": [],
   "source": []
  },
  {
   "cell_type": "code",
   "execution_count": 76,
   "id": "37459143",
   "metadata": {},
   "outputs": [],
   "source": [
    "def dj_oracle(case, n):\n",
    "    # We need to make a QuantumCircuit object to return\n",
    "    # This circuit has n+1 qubits: the size of the input,\n",
    "    # plus one output qubit\n",
    "    oracle_qc = QuantumCircuit(n+1)\n",
    "    \n",
    "    # if oracle is balanced\n",
    "    if case == \"balanced\":\n",
    "        # First generate a random number that tells us which CNOTs to\n",
    "        # wrap in X-gates:\n",
    "        b = np.random.randint(1,2**n)\n",
    "        # Next, format 'b' as a binary string of length 'n', padded with zeros:\n",
    "        b_str = format(b, '0'+str(n)+'b')\n",
    "    \n",
    "        # Next, we place the first X-gates. Each digit in our binary string \n",
    "        # corresponds to a qubit, if the digit is 0, we do nothing, if it's 1\n",
    "        # we apply an X-gate to that qubit:\n",
    "        for qubit in range(len(b_str)):\n",
    "            if b_str[qubit] == '1':\n",
    "                oracle_qc.x(qubit)\n",
    "                \n",
    "        # Do the controlled-NOT gates for each qubit, using the output qubit \n",
    "        # as the target:\n",
    "        for qubit in range(n):\n",
    "            oracle_qc.cx(qubit, n)\n",
    "            \n",
    "        # Next, place the final X-gates\n",
    "        for qubit in range(len(b_str)):\n",
    "            if b_str[qubit] == '1':\n",
    "                oracle_qc.x(qubit)\n",
    "\n",
    "    # Case in which oracle is constant\n",
    "    if case == \"constant\":\n",
    "        # First decide what the fixed output of the oracle will be\n",
    "        # (either always 0 or always 1)\n",
    "        output = np.random.randint(2)\n",
    "        if output == 1:\n",
    "            oracle_qc.x(n)\n",
    "    \n",
    "    oracle_gate = oracle_qc.to_gate()\n",
    "    oracle_gate.name = \"Oracle\" # To show when we display the circuit\n",
    "    return oracle_gate"
   ]
  },
  {
   "cell_type": "code",
   "execution_count": 77,
   "id": "54feaf85",
   "metadata": {},
   "outputs": [],
   "source": [
    "def dj_algorithm(oracle, n):\n",
    "    # Also add n classical bits to write the output to\n",
    "    dj_circuit = QuantumCircuit(n+1, n)\n",
    "    \n",
    "    # Set up the output qubit:\n",
    "    dj_circuit.x(n)\n",
    "    dj_circuit.h(n)\n",
    "    \n",
    "    # And set up the input register:\n",
    "    for qubit in range(n):\n",
    "        dj_circuit.h(qubit)\n",
    "        \n",
    "    # Let's append the oracle gate to our circuit:\n",
    "    dj_circuit.append(oracle, range(n+1))\n",
    "    \n",
    "    # Finally, perform the H-gates again and measure:\n",
    "    for qubit in range(n):\n",
    "        dj_circuit.h(qubit)\n",
    "    \n",
    "    for i in range(n):\n",
    "        dj_circuit.measure(i, i)\n",
    "    \n",
    "    return dj_circuit"
   ]
  },
  {
   "cell_type": "code",
   "execution_count": 78,
   "id": "3a2e5c93",
   "metadata": {},
   "outputs": [
    {
     "data": {
      "text/html": [
       "<pre style=\"word-wrap: normal;white-space: pre;background: #fff0;line-height: 1.1;font-family: &quot;Courier New&quot;,Courier,monospace\">     ┌───┐     ┌─────────┐┌───┐┌─┐      \n",
       "q_0: ┤ H ├─────┤0        ├┤ H ├┤M├──────\n",
       "     ├───┤     │         │├───┤└╥┘┌─┐   \n",
       "q_1: ┤ H ├─────┤1        ├┤ H ├─╫─┤M├───\n",
       "     ├───┤     │  Oracle │├───┤ ║ └╥┘┌─┐\n",
       "q_2: ┤ H ├─────┤2        ├┤ H ├─╫──╫─┤M├\n",
       "     ├───┤┌───┐│         │└───┘ ║  ║ └╥┘\n",
       "q_3: ┤ X ├┤ H ├┤3        ├──────╫──╫──╫─\n",
       "     └───┘└───┘└─────────┘      ║  ║  ║ \n",
       "c_0: ═══════════════════════════╩══╬══╬═\n",
       "                                   ║  ║ \n",
       "c_1: ══════════════════════════════╩══╬═\n",
       "                                      ║ \n",
       "c_2: ═════════════════════════════════╩═\n",
       "                                        </pre>"
      ],
      "text/plain": [
       "     ┌───┐     ┌─────────┐┌───┐┌─┐      \n",
       "q_0: ┤ H ├─────┤0        ├┤ H ├┤M├──────\n",
       "     ├───┤     │         │├───┤└╥┘┌─┐   \n",
       "q_1: ┤ H ├─────┤1        ├┤ H ├─╫─┤M├───\n",
       "     ├───┤     │  Oracle │├───┤ ║ └╥┘┌─┐\n",
       "q_2: ┤ H ├─────┤2        ├┤ H ├─╫──╫─┤M├\n",
       "     ├───┤┌───┐│         │└───┘ ║  ║ └╥┘\n",
       "q_3: ┤ X ├┤ H ├┤3        ├──────╫──╫──╫─\n",
       "     └───┘└───┘└─────────┘      ║  ║  ║ \n",
       "c_0: ═══════════════════════════╩══╬══╬═\n",
       "                                   ║  ║ \n",
       "c_1: ══════════════════════════════╩══╬═\n",
       "                                      ║ \n",
       "c_2: ═════════════════════════════════╩═\n",
       "                                        "
      ]
     },
     "execution_count": 78,
     "metadata": {},
     "output_type": "execute_result"
    }
   ],
   "source": [
    "#build the circuit of the Deutsch-Jozsa algorithm for n qubits\n",
    "\n",
    "n=3\n",
    "oracle_gate = dj_oracle('constant', n)\n",
    "dj_circuit = dj_algorithm(oracle_gate, n)\n",
    "dj_circuit.draw()\n",
    "\n",
    "\n"
   ]
  },
  {
   "cell_type": "code",
   "execution_count": 79,
   "id": "b9995f78",
   "metadata": {},
   "outputs": [
    {
     "data": {
      "image/png": "[encoded data removed]",
      "text/plain": [
       "<Figure size 504x360 with 1 Axes>"
      ]
     },
     "execution_count": 79,
     "metadata": {},
     "output_type": "execute_result"
    }
   ],
   "source": [
    "#simulate the case of 4 input qubits on the noisless simulator\n",
    "#then simulate on 2 different quantum computers with noise \n",
    "\n",
    "#noisless simulations\n",
    "\n",
    "simulator = Aer.get_backend('aer_simulator_stabilizer')\n",
    "circ = transpile(dj_circuit, simulator)\n",
    "\n",
    "# Run and get counts\n",
    "result = simulator.run(circ).result()\n",
    "counts = result.get_counts(circ)\n",
    "\n",
    "plot_histogram(counts, title=\"aer_simulator\")"
   ]
  },
  {
   "cell_type": "code",
   "execution_count": 80,
   "id": "d54e1939",
   "metadata": {},
   "outputs": [
    {
     "name": "stderr",
     "output_type": "stream",
     "text": [
      "/var/folders/05/9y6gplnj7kg_9m62mlq2tlqr0000gn/T/ipykernel_21712/3028869416.py:2: DeprecationWarning: The module 'qiskit.test.mock' is deprecated since Qiskit Terra 0.21.0, and will be removed 3 months or more later. Instead, you should import the desired object directly 'qiskit.providers.fake_provider'.\n",
      "  from qiskit.test.mock import FakeVigo,FakeCasablanca\n"
     ]
    },
    {
     "data": {
      "image/png": "[encoded data removed]",
      "text/plain": [
       "<Figure size 504x360 with 1 Axes>"
      ]
     },
     "execution_count": 80,
     "metadata": {},
     "output_type": "execute_result"
    }
   ],
   "source": [
    "#use of noisy simulator\n",
    "from qiskit.test.mock import FakeVigo,FakeCasablanca\n",
    "device_backend = FakeVigo()\n",
    "\n",
    "# Transpile the circuit for the noisy basis gates\n",
    "sim_vigo = AerSimulator.from_backend(device_backend)\n",
    "tcirc = transpile(dj_circuit, sim_vigo)\n",
    "\n",
    "# Execute noisy simulation and get counts\n",
    "result_noise = sim_vigo.run(tcirc).result()\n",
    "counts_noise = result_noise.get_counts(0)\n",
    "plot_histogram(counts_noise,\n",
    "               title=\"Counts for 4-qubit GHZ state with device noise model\")\n",
    "\n",
    "\n"
   ]
  },
  {
   "cell_type": "code",
   "execution_count": 81,
   "id": "383a0fd4",
   "metadata": {},
   "outputs": [
    {
     "data": {
      "image/png": "[encoded data removed]",
      "text/plain": [
       "<Figure size 504x360 with 1 Axes>"
      ]
     },
     "execution_count": 81,
     "metadata": {},
     "output_type": "execute_result"
    }
   ],
   "source": [
    "device_backend = FakeCasablanca()\n",
    "\n",
    "# Transpile the circuit for the noisy basis gates\n",
    "sim_casa = AerSimulator.from_backend(device_backend)\n",
    "tcirc = transpile(dj_circuit, sim_vigo)\n",
    "\n",
    "# Execute noisy simulation and get counts\n",
    "result_noise = sim_casa.run(tcirc).result()\n",
    "counts_noise = result_noise.get_counts(0)\n",
    "plot_histogram(counts_noise,\n",
    "               title=\"Counts for 4-qubit GHZ state with device noise model\")\n"
   ]
  },
  {
   "cell_type": "code",
   "execution_count": 82,
   "id": "2a2c4c20",
   "metadata": {},
   "outputs": [
    {
     "data": {
      "image/png": "[encoded data removed]",
      "text/plain": [
       "<Figure size 432x288 with 1 Axes>"
      ]
     },
     "metadata": {
      "needs_background": "light"
     },
     "output_type": "display_data"
    }
   ],
   "source": [
    "import time\n",
    "import matplotlib.pyplot as plt\n",
    "time_for_diff_oracles=[]\n",
    "for i in range(20):\n",
    "    start_time = time.time()\n",
    "    n=2\n",
    "    oracle_gate = dj_oracle('constant', n)\n",
    "    dj_circuit = dj_algorithm(oracle_gate, n)\n",
    "    time_for_diff_oracles.append(time.time()-start_time)\n",
    "    \n",
    "plt.plot(range(20),time_for_diff_oracles,\"o\")\n",
    "plt.xlabel(\"Oracle number (# qubits passed in oracle=2, function='constant')\")\n",
    "plt.ylabel(\"Execusion time (s)\")\n",
    "plt.savefig(\"oracle_execusion_dj.pdf\")\n",
    "plt.show()\n",
    "    \n"
   ]
  },
  {
   "cell_type": "code",
   "execution_count": 84,
   "id": "1e4c2b09",
   "metadata": {},
   "outputs": [
    {
     "data": {
      "image/png": "[encoded data removed]",
      "text/plain": [
       "<Figure size 432x288 with 1 Axes>"
      ]
     },
     "metadata": {
      "needs_background": "light"
     },
     "output_type": "display_data"
    }
   ],
   "source": [
    "time_for_diff_n=[]\n",
    "for i in np.arange(1,30,1):\n",
    "    start_time = time.time()\n",
    "    n=i\n",
    "    b = np.random.randint(1,2**n)\n",
    "    b_str = format(b, '0'+str(n)+'b')\n",
    "    oracle_gate = dj_oracle('constant', n)\n",
    "    dj_circuit = dj_algorithm(oracle_gate, n)\n",
    "    time_for_diff_n.append(time.time()-start_time)\n",
    "    \n",
    "plt.plot(np.arange(1,30,1),time_for_diff_n,\"o\",label=\"constant function\")\n",
    "plt.xlabel(\"Number of qubits passed in oracle \")\n",
    "plt.ylabel(\"Execusion time (s)\") \n",
    "\n",
    "\n",
    "\n",
    "time_for_diff_n=[]\n",
    "for i in np.arange(1,30,1):\n",
    "    start_time = time.time()\n",
    "    n=i\n",
    "    b = np.random.randint(1,2**n)\n",
    "    b_str = format(b, '0'+str(n)+'b')\n",
    "    oracle_gate = dj_oracle('balanced', n)\n",
    "    dj_circuit = dj_algorithm(oracle_gate, n)\n",
    "    time_for_diff_n.append(time.time()-start_time)\n",
    "    \n",
    "plt.plot(np.arange(1,30,1),time_for_diff_n,\"o\",label=\"Balanced function\")\n",
    "plt.xlabel(\"Number of qubits passed in oracle \")\n",
    "plt.ylabel(\"Execusion time (s)\") \n",
    "plt.legend()\n",
    "plt.savefig(\"n_qubit_execusion_dj.pdf\")\n",
    "plt.show()"
   ]
  },
  {
   "cell_type": "code",
   "execution_count": null,
   "id": "bd1a6634",
   "metadata": {},
   "outputs": [],
   "source": []
  },
  {
   "cell_type": "code",
   "execution_count": null,
   "id": "1a146cd6",
   "metadata": {},
   "outputs": [],
   "source": []
  }
 ],
 "metadata": {
  "kernelspec": {
   "display_name": "Python 3 (ipykernel)",
   "language": "python",
   "name": "python3"
  },
  "language_info": {
   "codemirror_mode": {
    "name": "ipython",
    "version": 3
   },
   "file_extension": ".py",
   "mimetype": "text/x-python",
   "name": "python",
   "nbconvert_exporter": "python",
   "pygments_lexer": "ipython3",
   "version": "3.9.7"
  }
 },
 "nbformat": 4,
 "nbformat_minor": 5
}
