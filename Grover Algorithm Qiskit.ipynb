{
 "cells": [
  {
   "cell_type": "code",
   "execution_count": 63,
   "id": "1c7291dd",
   "metadata": {},
   "outputs": [],
   "source": [
    "import qiskit\n",
    "import numpy as np\n",
    "from qiskit.providers.ibmq import least_busy\n",
    "from qiskit import QuantumCircuit, assemble, transpile\n",
    "from qiskit.visualization import plot_histogram\n",
    "from qiskit import IBMQ, Aer\n",
    "import matplotlib.pyplot as plt\n",
    "from qiskit.providers.aer import AerSimulator\n",
    "from qiskit.circuit.library import MCMT"
   ]
  },
  {
   "cell_type": "code",
   "execution_count": 64,
   "id": "a835ac42",
   "metadata": {},
   "outputs": [],
   "source": [
    "#input length of circuit\n",
    "w = '10'\n",
    "n = len(w)"
   ]
  },
  {
   "cell_type": "code",
   "execution_count": 66,
   "id": "9b5a66ff",
   "metadata": {},
   "outputs": [],
   "source": [
    "#define grover algorithm\n",
    "def grover_oracle_2(n,b):\n",
    "    grover_circ = QuantumCircuit(n)\n",
    "    if(b == '00'):\n",
    "        grover_circ.cz(0,1)\n",
    "        grover_circ.x(0)\n",
    "        grover_circ.x(1)\n",
    "    if(b == '01'):\n",
    "        grover_circ.cz(0,1)\n",
    "        grover_circ.x(1)\n",
    "    if(b == '10'):\n",
    "        grover_circ.cz(0,1)\n",
    "        grover_circ.x(0)\n",
    "    if(b == '11'):\n",
    "        grover_circ.cz(0,1)\n",
    "        \n",
    "    circ = grover_circ.to_gate()\n",
    "    circ.name = \"Grovers Oracle\"\n",
    "    \n",
    "    return circ \n",
    "        "
   ]
  },
  {
   "cell_type": "code",
   "execution_count": null,
   "id": "36dec12c",
   "metadata": {},
   "outputs": [],
   "source": []
  },
  {
   "cell_type": "code",
   "execution_count": 67,
   "id": "021903b6",
   "metadata": {},
   "outputs": [],
   "source": [
    "#define full circuit \n",
    "def grovers_algorithm_2(oracle,n):\n",
    "    circuit = QuantumCircuit(n,n)\n",
    "\n",
    "    #first apply Hadamard on both gates\n",
    "    for i in range(n):\n",
    "        circuit.h(i)\n",
    "\n",
    "\n",
    "    #append oracle to circuit\n",
    "    circuit.append(oracle,range(n))\n",
    "\n",
    "    #apply diffuser\n",
    "    circuit.h([0,1])\n",
    "    circuit.z([0,1])\n",
    "    circuit.cz(0,1)\n",
    "    circuit.h([0,1])\n",
    "\n",
    "    #measure\n",
    "    for i in range(n):\n",
    "        circuit.measure(i,i)\n",
    "\n",
    "    return circuit"
   ]
  },
  {
   "cell_type": "code",
   "execution_count": 68,
   "id": "330aa57f",
   "metadata": {},
   "outputs": [],
   "source": [
    "def grover_oracle(n,w):\n",
    "    #define grover algorithm oracles\n",
    "    w = w[::-1]\n",
    "    circ = QuantumCircuit(n)\n",
    "    #define for each case of  qubits the different oracles\n",
    "    #apply x-gate for w[i]=='0'\n",
    "    for i in range(n):\n",
    "        if(w[i]=='0'):\n",
    "            circ.x(i)\n",
    "            \n",
    "    #multi-controlled multi-target gate, for an arbitrary singly controlled target gate.\n",
    "    #using z-gate\n",
    "    circ += MCMT('z', n-1, 1) \n",
    "    \n",
    "    #re-apply x-gate for w[i]=='0'\n",
    "    for i in range(n):\n",
    "        if(w[i]=='0'):\n",
    "            circ.x(i)\n",
    "    return circ\n",
    "        "
   ]
  },
  {
   "cell_type": "code",
   "execution_count": 72,
   "id": "b4c02654",
   "metadata": {},
   "outputs": [],
   "source": [
    "def diffuser(n):\n",
    "    c = QuantumCircuit(n)\n",
    "    for i in range(n):\n",
    "        c.x(i)\n",
    "        \n",
    "    c += MCMT('z', n-1, 1)\n",
    "    \n",
    "    for i in range(n):\n",
    "        c.x(i)\n",
    "    return c"
   ]
  },
  {
   "cell_type": "code",
   "execution_count": 112,
   "id": "86d270fa",
   "metadata": {},
   "outputs": [],
   "source": [
    "def grovers_algorithm(oracle,n):\n",
    "    #define full circuit \n",
    "    grover_circ = QuantumCircuit(n)\n",
    "\n",
    "    #first apply Hadamard on both gates\n",
    "    for i in range(n):\n",
    "        grover_circ.h(i)\n",
    "    grover_circ.barrier()\n",
    "    #apply oracle\n",
    "    grover_circ.append(oracle, range(n))\n",
    "    grover_circ.barrier()\n",
    "    #apply hadamard\n",
    "    for i in range(n):\n",
    "        grover_circ.h(i)\n",
    "    grover_circ.barrier()\n",
    "    #apply diffuser\n",
    "    grover_circ += diffuser(n)\n",
    "    grover_circ.barrier()\n",
    "    \n",
    "    for i in range(n):\n",
    "        grover_circ.h(i)\n",
    "    #measure\n",
    "    grover_circ.measure_all()\n",
    "    \n",
    "    return grover_circ"
   ]
  },
  {
   "cell_type": "code",
   "execution_count": 126,
   "id": "0cc6c993",
   "metadata": {},
   "outputs": [
    {
     "name": "stderr",
     "output_type": "stream",
     "text": [
      "/var/folders/05/9y6gplnj7kg_9m62mlq2tlqr0000gn/T/ipykernel_23427/2351677189.py:9: DeprecationWarning: The QuantumCircuit.__iadd__() method is being deprecated. Use the compose() (potentially with the inplace=True argument) and tensor() methods which are more flexible w.r.t circuit register compatibility.\n",
      "  circ += MCMT('z', n-1, 1)\n",
      "/var/folders/05/9y6gplnj7kg_9m62mlq2tlqr0000gn/T/ipykernel_23427/507826050.py:6: DeprecationWarning: The QuantumCircuit.__iadd__() method is being deprecated. Use the compose() (potentially with the inplace=True argument) and tensor() methods which are more flexible w.r.t circuit register compatibility.\n",
      "  c += MCMT('z', n-1, 1)\n",
      "/var/folders/05/9y6gplnj7kg_9m62mlq2tlqr0000gn/T/ipykernel_23427/2503091860.py:17: DeprecationWarning: The QuantumCircuit.__iadd__() method is being deprecated. Use the compose() (potentially with the inplace=True argument) and tensor() methods which are more flexible w.r.t circuit register compatibility.\n",
      "  grover_circ += diffuser(n)\n"
     ]
    },
    {
     "data": {
      "text/html": [
       "<pre style=\"word-wrap: normal;white-space: pre;background: #fff0;line-height: 1.1;font-family: &quot;Courier New&quot;,Courier,monospace\">        ┌───┐ ░ ┌────────────────┐ ░ ┌───┐ ░ ┌───┐   ┌───┐ ░ ┌───┐ ░ ┌─┐      »\n",
       "   q_0: ┤ H ├─░─┤0               ├─░─┤ H ├─░─┤ X ├─■─┤ X ├─░─┤ H ├─░─┤M├──────»\n",
       "        ├───┤ ░ │                │ ░ ├───┤ ░ ├───┤ │ ├───┤ ░ ├───┤ ░ └╥┘┌─┐   »\n",
       "   q_1: ┤ H ├─░─┤1               ├─░─┤ H ├─░─┤ X ├─■─┤ X ├─░─┤ H ├─░──╫─┤M├───»\n",
       "        ├───┤ ░ │                │ ░ ├───┤ ░ ├───┤ │ ├───┤ ░ ├───┤ ░  ║ └╥┘┌─┐»\n",
       "   q_2: ┤ H ├─░─┤2               ├─░─┤ H ├─░─┤ X ├─■─┤ X ├─░─┤ H ├─░──╫──╫─┤M├»\n",
       "        ├───┤ ░ │                │ ░ ├───┤ ░ ├───┤ │ ├───┤ ░ ├───┤ ░  ║  ║ └╥┘»\n",
       "   q_3: ┤ H ├─░─┤3 circuit-16643 ├─░─┤ H ├─░─┤ X ├─■─┤ X ├─░─┤ H ├─░──╫──╫──╫─»\n",
       "        ├───┤ ░ │                │ ░ ├───┤ ░ ├───┤ │ ├───┤ ░ ├───┤ ░  ║  ║  ║ »\n",
       "   q_4: ┤ H ├─░─┤4               ├─░─┤ H ├─░─┤ X ├─■─┤ X ├─░─┤ H ├─░──╫──╫──╫─»\n",
       "        ├───┤ ░ │                │ ░ ├───┤ ░ ├───┤ │ ├───┤ ░ ├───┤ ░  ║  ║  ║ »\n",
       "   q_5: ┤ H ├─░─┤5               ├─░─┤ H ├─░─┤ X ├─■─┤ X ├─░─┤ H ├─░──╫──╫──╫─»\n",
       "        ├───┤ ░ │                │ ░ ├───┤ ░ ├───┤ │ ├───┤ ░ ├───┤ ░  ║  ║  ║ »\n",
       "   q_6: ┤ H ├─░─┤6               ├─░─┤ H ├─░─┤ X ├─■─┤ X ├─░─┤ H ├─░──╫──╫──╫─»\n",
       "        └───┘ ░ └────────────────┘ ░ └───┘ ░ └───┘   └───┘ ░ └───┘ ░  ║  ║  ║ »\n",
       "meas_0: ══════════════════════════════════════════════════════════════╩══╬══╬═»\n",
       "                                                                         ║  ║ »\n",
       "meas_1: ═════════════════════════════════════════════════════════════════╩══╬═»\n",
       "                                                                            ║ »\n",
       "meas_2: ════════════════════════════════════════════════════════════════════╩═»\n",
       "                                                                              »\n",
       "meas_3: ══════════════════════════════════════════════════════════════════════»\n",
       "                                                                              »\n",
       "meas_4: ══════════════════════════════════════════════════════════════════════»\n",
       "                                                                              »\n",
       "meas_5: ══════════════════════════════════════════════════════════════════════»\n",
       "                                                                              »\n",
       "meas_6: ══════════════════════════════════════════════════════════════════════»\n",
       "                                                                              »\n",
       "«                    \n",
       "«   q_0: ────────────\n",
       "«                    \n",
       "«   q_1: ────────────\n",
       "«                    \n",
       "«   q_2: ────────────\n",
       "«        ┌─┐         \n",
       "«   q_3: ┤M├─────────\n",
       "«        └╥┘┌─┐      \n",
       "«   q_4: ─╫─┤M├──────\n",
       "«         ║ └╥┘┌─┐   \n",
       "«   q_5: ─╫──╫─┤M├───\n",
       "«         ║  ║ └╥┘┌─┐\n",
       "«   q_6: ─╫──╫──╫─┤M├\n",
       "«         ║  ║  ║ └╥┘\n",
       "«meas_0: ═╬══╬══╬══╬═\n",
       "«         ║  ║  ║  ║ \n",
       "«meas_1: ═╬══╬══╬══╬═\n",
       "«         ║  ║  ║  ║ \n",
       "«meas_2: ═╬══╬══╬══╬═\n",
       "«         ║  ║  ║  ║ \n",
       "«meas_3: ═╩══╬══╬══╬═\n",
       "«            ║  ║  ║ \n",
       "«meas_4: ════╩══╬══╬═\n",
       "«               ║  ║ \n",
       "«meas_5: ═══════╩══╬═\n",
       "«                  ║ \n",
       "«meas_6: ══════════╩═\n",
       "«                    </pre>"
      ],
      "text/plain": [
       "        ┌───┐ ░ ┌────────────────┐ ░ ┌───┐ ░ ┌───┐   ┌───┐ ░ ┌───┐ ░ ┌─┐      »\n",
       "   q_0: ┤ H ├─░─┤0               ├─░─┤ H ├─░─┤ X ├─■─┤ X ├─░─┤ H ├─░─┤M├──────»\n",
       "        ├───┤ ░ │                │ ░ ├───┤ ░ ├───┤ │ ├───┤ ░ ├───┤ ░ └╥┘┌─┐   »\n",
       "   q_1: ┤ H ├─░─┤1               ├─░─┤ H ├─░─┤ X ├─■─┤ X ├─░─┤ H ├─░──╫─┤M├───»\n",
       "        ├───┤ ░ │                │ ░ ├───┤ ░ ├───┤ │ ├───┤ ░ ├───┤ ░  ║ └╥┘┌─┐»\n",
       "   q_2: ┤ H ├─░─┤2               ├─░─┤ H ├─░─┤ X ├─■─┤ X ├─░─┤ H ├─░──╫──╫─┤M├»\n",
       "        ├───┤ ░ │                │ ░ ├───┤ ░ ├───┤ │ ├───┤ ░ ├───┤ ░  ║  ║ └╥┘»\n",
       "   q_3: ┤ H ├─░─┤3 circuit-16643 ├─░─┤ H ├─░─┤ X ├─■─┤ X ├─░─┤ H ├─░──╫──╫──╫─»\n",
       "        ├───┤ ░ │                │ ░ ├───┤ ░ ├───┤ │ ├───┤ ░ ├───┤ ░  ║  ║  ║ »\n",
       "   q_4: ┤ H ├─░─┤4               ├─░─┤ H ├─░─┤ X ├─■─┤ X ├─░─┤ H ├─░──╫──╫──╫─»\n",
       "        ├───┤ ░ │                │ ░ ├───┤ ░ ├───┤ │ ├───┤ ░ ├───┤ ░  ║  ║  ║ »\n",
       "   q_5: ┤ H ├─░─┤5               ├─░─┤ H ├─░─┤ X ├─■─┤ X ├─░─┤ H ├─░──╫──╫──╫─»\n",
       "        ├───┤ ░ │                │ ░ ├───┤ ░ ├───┤ │ ├───┤ ░ ├───┤ ░  ║  ║  ║ »\n",
       "   q_6: ┤ H ├─░─┤6               ├─░─┤ H ├─░─┤ X ├─■─┤ X ├─░─┤ H ├─░──╫──╫──╫─»\n",
       "        └───┘ ░ └────────────────┘ ░ └───┘ ░ └───┘   └───┘ ░ └───┘ ░  ║  ║  ║ »\n",
       "meas_0: ══════════════════════════════════════════════════════════════╩══╬══╬═»\n",
       "                                                                         ║  ║ »\n",
       "meas_1: ═════════════════════════════════════════════════════════════════╩══╬═»\n",
       "                                                                            ║ »\n",
       "meas_2: ════════════════════════════════════════════════════════════════════╩═»\n",
       "                                                                              »\n",
       "meas_3: ══════════════════════════════════════════════════════════════════════»\n",
       "                                                                              »\n",
       "meas_4: ══════════════════════════════════════════════════════════════════════»\n",
       "                                                                              »\n",
       "meas_5: ══════════════════════════════════════════════════════════════════════»\n",
       "                                                                              »\n",
       "meas_6: ══════════════════════════════════════════════════════════════════════»\n",
       "                                                                              »\n",
       "«                    \n",
       "«   q_0: ────────────\n",
       "«                    \n",
       "«   q_1: ────────────\n",
       "«                    \n",
       "«   q_2: ────────────\n",
       "«        ┌─┐         \n",
       "«   q_3: ┤M├─────────\n",
       "«        └╥┘┌─┐      \n",
       "«   q_4: ─╫─┤M├──────\n",
       "«         ║ └╥┘┌─┐   \n",
       "«   q_5: ─╫──╫─┤M├───\n",
       "«         ║  ║ └╥┘┌─┐\n",
       "«   q_6: ─╫──╫──╫─┤M├\n",
       "«         ║  ║  ║ └╥┘\n",
       "«meas_0: ═╬══╬══╬══╬═\n",
       "«         ║  ║  ║  ║ \n",
       "«meas_1: ═╬══╬══╬══╬═\n",
       "«         ║  ║  ║  ║ \n",
       "«meas_2: ═╬══╬══╬══╬═\n",
       "«         ║  ║  ║  ║ \n",
       "«meas_3: ═╩══╬══╬══╬═\n",
       "«            ║  ║  ║ \n",
       "«meas_4: ════╩══╬══╬═\n",
       "«               ║  ║ \n",
       "«meas_5: ═══════╩══╬═\n",
       "«                  ║ \n",
       "«meas_6: ══════════╩═\n",
       "«                    "
      ]
     },
     "execution_count": 126,
     "metadata": {},
     "output_type": "execute_result"
    }
   ],
   "source": [
    "oracle_gate = grover_oracle(7,'0000100')\n",
    "grovers_circuit = grovers_algorithm(oracle_gate,7)\n",
    "grovers_circuit.draw()"
   ]
  },
  {
   "cell_type": "code",
   "execution_count": 127,
   "id": "82f112f2",
   "metadata": {},
   "outputs": [
    {
     "data": {
      "image/png": "iVBORw0KGgoAAAANSUhEUgAAAb8AAAF0CAYAAACzPDcFAAAAOXRFWHRTb2Z0d2FyZQBNYXRwbG90bGliIHZlcnNpb24zLjQuMywgaHR0cHM6Ly9tYXRwbG90bGliLm9yZy/MnkTPAAAACXBIWXMAAAsTAAALEwEAmpwYAABvMElEQVR4nO2deZgVxdW43xoGhoFh32FAQBBZBEESwCBgEvwZExO3LMYYNW4xMdHERJMvm9lNYj41akw0Bo0aMYsmfriDCqKAwggKyKKsw77PDLMwS/3+ONXTPZe+69x7Z+Ce93nuMzXdp6pOnaquU11V3W2stSiKoihKLpHX0gooiqIoSrZR56coiqLkHOr8FEVRlJxDnZ+iKIqSc6jzUxRFUXIOdX6KoihKzqHOT1EURck51PkpShyMMX8yxvwoQ2lvMsZ8PBNpJ5j/+caYrcaYCmPM+JbSQ1GyjTo/RYmDtfar1tqft7QexhhrjBmW5mRvB6631hZZa99OR4LGmJnGmFeMMeXGmH3GmOXGmFuMMe3Tkb6ipAN1fkrOYIzJb2kdWooYZT8BWJVimm1Cjn0W+Bfwd+AEa20P4PNAMTAwSd3SSi7Xv3I06vyUVo8x5nvGmA/cncRqY8z5Eee/Yox5zxhzwBjzgjHmhMA5a4z5ujFmPbA+Rh7GGHOHMWa3MeaQMeYdY8wYd+4hY8wvXHiGMabUGHOzk91hjDnPGHOOMWadMWa/MeZ/Auk2xg3Gj6LDh40xi4wxB1269xhj2rlzC5zYCjdF+Xl3/GpjzPsu36eNMf0TKbsxpsAYUwG0cWl+4I6PNMa86nRYZYz5dERZ7jPGPGuMOQycGWlD4H+Bn1lrH7DW7gew1q611n7DWrveyd1qjPmXMeZRY0wZcLkxpr/Tf78rz9VOtr8xpsoY0z2Qz3hjzF5jTNtk6z9WPSs5hrVWf/pr1T/gs0B/ZLD2eeAw0M+dOw94HxgJ5AM/BN4IxLXAS0B3oDBGHv8PWAZ0BYxLz8vjIeAXLjwDqAN+DLQFrgb2IHc6nYDRQDUwNDJuIH5p4P9NwMdd+DRgsivHYOA94MaIsgwL/P9RYC8wASgA7gYWJFP2YJquPO8D/wO0c+mXAyMCZTkEfMTVRfuItE526Q2OU5+3ArWu7vKAQmA+8EegPXCqs+nHnPzLwNWB+L8D/pRK/ceqZ/3l1k/v/JRWj7X2n9ba7dbaBmvtE8hdzIfd6WuBX1tr37PW1gG/Ak4Njv7d+f3W2qoY2dQizutkwLj0dsSQ/aW1thaYDfQE7rLWlltrVyHTiGNTKOcya+1ia22dtXYT8GdgeowolwB/tdaWWGtrgO8DU4wxgwMyiZTdYzJQBNxmrT1irX0ZmANcHJD5r7X2dVcX1RHxe7q/O70DxpjZ7i6y0hhzaUB2kbX2P9baBhdvKnCLtbbaWrsc+Avgyf/d08HdXX7BHYPk6z+ZelaOY9T5Ka0eY8yX3aaJg8aYg8AY/I72BOCuwLn9yIh+QCCJrfHycB39PcC9wC5jzP3GmM5RxPdZa+td2HMquwLnqxAnkhTGmJOMMXOMMTvddOCv8MsZRn9gc6AMFcA+kix7RHpbnUPy2JxEevvc334Bnb5gre0KlCBTrGHp9Af2W2vLo+T7L8Sp9wemIXdzr7lzSdV/kvWsHMeo81NaNW4E/wBwPdDDdaQrkQ4OpGO71lrbNfArtNa+EUgmoe92WWv/YK09DZm6PAn4bhqKcBjoEPi/bwzZ+4A1wHBrbWdk+tHEkN+OdP4AGGM6Aj2AbQGZZL5Zth0YaIwJ9guDkkhvjZO9IIG8gulsB7obYzqF5WutPQi8CHwO+CLwuLXWi590/WeonpVjDHV+SmunI9J57QEwxlyB3Pl5/An4vjFmtDvfxciOw6QwxnzIGDPJbaI4jKzb1ceJlgjLgXOMMd2NMX2BG2PIdgLKgApjzMnAdRHndwFDA///HbjCGHOqMaYAuVNc4qZMU2EJUvabjTFtjTEzgHORqd24OId0E/ATtxGnm9tgMhzoEyPeVuAN4NfGmPbGmLHAlcBjAbG/A18GLsSf8oQk6z+D9awcY6jzU1o11trVwO+BRUjnfwrweuD8U8BvgNluqnAl8IkUsuqM3GEeQKbc9iHPwDWXR4AVyMaWF4EnYsh+B7mzKXe6RMreCjzspvg+Z62dB/wI+DewAzgRWQ9LCWvtEeDTiP32IhtQvmytXZNEGk8gd2hfQu7K9gL/AO4H/hkj6sXIJp/twFPAT6y1LwXOPw0MB3ZZa1cE8ku2/jNVz8oxhvFnDxRFURQlN9A7P0VRFCXn0DceKDmDMeYM4Lmwc9bapHdnKopy7KLTnoqiKErOodOeiqIoSs5x3Ex79uzZ0w4ePLil1VAURVFaEcuWLdtrre0Vefy4cX6DBw9m6dKlLa2GoiiK0oowxmwOO67TnoqiKErOcdzc+WWDgwcPctVVV7Fy5UqMMfz1r3/lzjvvZO3atY3nu3btyvLly1tWUUVRFCUm6vyS4IYbbuDss8/mX//6F0eOHKGyspInnvBfwnHTTTfRpUuXFtRQURRFSQR1fglSVlbGggULeOihhwBo164d7dq1azxvreUf//gHL7/8cgtpqCiKoiSKrvklyIYNG+jVqxdXXHEF48eP56qrruLw4cON51977TX69OnD8OHDW1BLRVEUJRHU+SVIXV0dJSUlXHfddbz99tt07NiR2267rfH8448/zsUXXxwjBUVRFKW1oM4vQYqLiykuLmbSpEkAXHTRRZSUlADiGJ988kk+//nPt6SKiqIoSoKo80uQvn37MnDgwMadnfPmzWPUqFEAzJ07l5NPPpni4uKWVFFRFEVJEN3wkgR33303l1xyCUeOHGHo0KHMmjULgNmzZ+uUp6IoyjHEcfNi64kTJ1p9w4uiKIoSxBizzFo7MfK4TnsqiqIoOYc6P0VRFCXnUOenKIqi5Bzq/BRFUZScQ52foiiKknOo81MURVFyDnV+iqIoSs6hzk9RFEXJOdT5KYqiKDmHOj9FURQl51DnpyiKouQc6vwURVGUnEOdn6IoipJzqPNrBlff2dIaKIqiKKmgzk9RFEXJOdT5KYqiKDmHOj9FURQl51DnpyiKouQc6vwURVGUnEOdn6IoipJzqPNTFEVRcg51foqiKErOoc5PURRFyTnU+SmKoig5hzo/RVEUJedQ56coiqLkHOr8FEVRlJxDnZ+iKIqSc6jzUxRFUXIOdX6KoihKzqHOT1EURck51PkpiqIoOYc6P0VRFCXnUOenKIqi5BxZdX7GmH7GmIeNMXuMMdXGmNXGmOmB88YYc6sxZrsxpsoY86oxZnQ2dVQURVGOf7Lm/IwxXYHXAQN8EhgJfAPYHRC7GbjJHf+QO/eSMaZTtvRUFEVRjn/ys5jXzcAOa+2XA8c2egFjjAFuBG6z1v7bHbsMcYBfBP6cPVUVRVGU45lsTnueBywxxjxhjNltjFlujLneOT2AIUBf4EUvgrW2ClgAnJ5FPRVFUZTjnGze+Q0FvgbcAdwGnArc7c7dgzg+gF0R8XYBA8ISNMZcA1wD0L9/f1599VXJaOhQOnXqxIoVKwDo0aMHo0ePZsGCBQDk5+czdepUSkpKKCsrA2DixIns2rWLrVu3AjB8+HAKCgpYuXIlAL179+akk05i4cKFABQUFABTWLp0KRUVFQBMmjSJ0tJStm3bBsCIESNo06YNq1evBqBv374MGTKERYsWAVBYWMikSZNYsmQJVVVVAEyZMoWNGzeyc+dOAEaNGkV9fT1r164FYMCAARQXF7NkyRIAioqKmDhxIosWLaKmpgaAqVOnsm7dOnbvlhnlMWPGUFNTw/r16wEYOHAgffr0YenSpQB07tyZCRMmsHDhQurq6gCYNm0aq1atYt++fQCMGzeO8vJyNmzYAMDgwYPp3r07JSUlAHTr1o1x48Yxf/58rLUYY5g+fTorVqzgwIEDAEyYMIH9+/ezadOmrNbTlClaT1pPWk+5Wk/RMNbaqCfTiTHmCLDUWnt64NivgPOttSONMacja4KDrLVbAzKzgH7W2rNjpT9x4kTrNb5scfWd8MCNWc1SURRFSQJjzDJr7cTI49mc9twBrI449h4wyIV3ur99I2R6c/TdoKIoiqKkTDad3+vAiIhjJwGbXXgj4gBneieNMe2BM4A3sqGgoiiKkhtk0/ndAUw2xvzAGDPMGPNZ4JvAvQBW5l/vBL5njLnAGDMGeAioAP6eRT0VRVGU45ysbXix1r5ljDkP+BXwI2CL+/vHgNhvgULEIXYDlgBnWWvLs6WnoiiKcvyTzd2eWGufAZ6Jcd4Ct7qfoiiKomQEfbenoiiKknOo81MURVFyDnV+iqIoSs6hzk9RFEXJOdT5KYqiKDmHOj9FURQl51DnpyiKouQc6vwURVGUnEOdn6IoipJzqPNTFEVRcg51foqiKErOoc5PURRFyTnU+SmKoig5hzo/RVEUJedQ56coiqLkHOr8FEVRlJxDnZ+iKIqSc6jzUxRFUXIOdX6KoihKzqHOT1EURck51PkpiqIoOYc6P0VRFCXnUOenKIqi5Bzq/BRFUZScQ52foiiKknOo81MURVFyDnV+iqIoSs6hzk9RFEXJOdT5KYqiKDmHOj9FURQl51DnpyiKouQc6vwURVGUnEOdn6IoipJzqPNTFEVRcg51foqiKErOoc5PURRFyTnU+SmKoig5hzo/RVEUJedQ56coiqLkHOr8FEVRlJxDnZ+iKIqSc6jzUxRFUXIOdX6KoihKzqHOT1EURck51PkpiqIoOUeLOT9jzP8YY6wx5p7AsYfcseBvcUvpqCiKohyf5LdEpsaYycDVwDshp+cClwb+P5IVpRRFUZScIet3fsaYLsBjwJXAgRCRGmvtzsBvf3Y1VBRFUY53WmLa837gX9bal6Ocn2qM2W2MWWeMecAY0zubyimKoijHP1md9jTGXA0Mo+m0ZpDngSeBjcBg4BfAy8aY06y1NSHpXQNcA9C/f39effVVAIYOHUqnTp1YsWIFAD169GD06NEsWLAAgPz8fKZOnUpJSQllZWUATJw4kV27drF161YAhg8fTkFBAStXrgSgd+/enHTSSSxcuBCAgoICYApLly6loqICgEmTJlFaWsq2bdsAGDFiBG3atGH16tUA9O3blyFDhrBo0SIACgsLmTRpEkuWLKGqqgqAKVOmsHHjRnbu3AnAqFGjqK+vZ+3atQAMGDCA4uJilixZAkBRURETJ05k0aJF1NSIiaZOncq6devYvXs3AGPGjKGmpob169cDMHDgQPr06cPSpUsB6Ny5MxMmTGDhwoXU1dUBMG3aNFatWsW+ffsAGDduHOXl5WzYsAGAwYMH0717d0pKSgDo1q0b48aNY/78+VhrMcYwffp0VqxYwYEDcoM/YcIE9u/fz6ZNm7JaT1OmaD1pPWk95Wo9RcNYa6OeTCfGmBHAQuAMa+0ad+xVYKW19voocfoDm4HPW2ufjJX+xIkTrdf4ssXVd8IDN2Y1S0VRFCUJjDHLrLUTI49n885vCtATWGmM8Y61AaYZY74KdIy8u7PWbjfGlALDs6inoiiKcpyTTef3HyDy1mwWsB74FSG7Oo0xPYEBwI5MK6coiqLkDllzftbag8DB4DFjzGFgv7V2pTGmyBhzK/BvxNkNBn4N7AaeypaeiqIoyvFPizznF4V64BTgy0BXxAG+AnzOWlvegnopiqIoxxkt6vystTMC4Srg/7WcNoqiKEquoO/2VBRFUXIOdX6KoihKzqHOT1EURck51PkpiqIoOUfCzs8YM80Yc9QGGWNMvjFmWnrVUhRFUZTMkcyd3ytA95DjXdw5RVEURTkmSMb5GSDsRaA9gMPpUUdRFEVRMk/c5/yMMU+7oAUeNcYE37/ZBhgDvJEB3RRFURQlIyTykPs+99cgH5+tCpw7gnyp4YE066UoiqIoGSOu87PWXgFgjNkE3G6t1SlORVEU5Zgm4debWWt/mklFFEVRFCVbJOz8jDHdgV8CHwN6E7FZxlrbOb2qKYqiKEpmSObF1g8C44H7ge2E7/xUFEVRlFZPMs7vY8BMa+2STCmjKIqiKNkgmef8dgMVmVJEURRFUbJFMs7vB8DPjDFFmVJGURRFUbJBMtOePwQGA7uNMZuB2uBJa+3YNOqlKIqiKBkjGef3r4xpoSiKoihZRJ/zUxRFUXIO/Z6foiiKknMk85B7OTGe7dOH3BVFUZRjhWTW/K6P+L8t8tD7hcibXxRFURTlmCCZNb+Hw44bY0qQB+DvTpdSiqIoipJJ0rHm9wpwbhrSURRFUZSskA7n9wVgbxrSURRFUZSskMyGl3dpuuHFAH2A7sB1adZLURRFUTJGcx5ybwD2AK9aa9ekTyVFURRFySz6kLuiKIqScyRz5weAMeajwChkCnSVtfbVdCulKIqiKJkkmTW/AcBTwGnIx2wB+htjlgLnW2u3R42sKIqiKK2IZHZ7/gGoB4ZZawdaawcCw92xP2RCOUVRFEXJBMlMe84EZlhrN3oHrLUbjDHfBOalXTNFURRFyRDpeM6vIQ1pKIqiKErWSMb5zQP+YIwZ6B0wxgwC7kLv/BRFUZRjiGSc3zeBDsAGY8xmY8wm4AN37JsZ0E1RFEVRMkIyz/ltBSYYY2YCJyNveFltrZ2bKeUURVEUJRPEvfMzxnzCGLPJGNMFwFr7krX2bmvtH4C33LmzMq6poiiKoqSJRKY9rwd+Z609FHnCHfsNcEO6FVMURVGUTJGI8xsLxJrafBkYlx51FEVRFCXzJOL8ehH7cQYL9EiPOoqiKIqSeRJxfqXI3V80xgLb0qOOoiiKomSeRJzfM8DPjTGFkSeMMR2AnzkZRVEURTkmSORRh18CFwHrjTF3A963+0Yim2EM8KvMqKcoiqIo6Seu87PW7jbGnA7chzg5450CXgC+Zq3dlTkVFUVRFCW9JPSGF2vtZmvtOUBPYBIwGehprT3HWrspkTSMMV83xrxjjClzv0XGmE8GzhtjzK3GmO3GmCpjzKvGmNEplElRFEVRYpLUi62ttQestW9Za9+01h5IMq9S4BZgAjAReUTiP8YYbzPNzcBNwDeADwG7gZeMMZ2SzEdRFEVRYpKOrzokhLX2v9ba56y171tr11lrfwCUA1OMMQa4EbjNWvtva+1K4DKgE/DFbOmoKIqi5AZZc35BjDFtjDFfAIqAN4AhQF/gRU/GWlsFLABObwkdFUVRlOOXZD5m22yMMacAi4D2QAVwvrX2XbehBiBy48wuYECM9K4BrgHo378/r776KgBDhw6lU6dOrFixAoAePXowevRoFixYAEB+fj5Tp06lpKSEsrIyACZOnMiuXbvYunUrAMOHD6egoICVK1cC0Lt3b0466SQWLlwIQEFBATCFpUuXUlFRAcCkSZMoLS1l2zZ57HHEiBG0adOG1atXA9C3b1+GDBnCokWLACgsLGTSpEksWbKEqqoqAKZMmcLGjRvZuXMnAKNGjaK+vp61a9cCMGDAAIqLi1myZAkARUVFTJw4kUWLFlFTUwPA1KlTWbduHbt37wZgzJgx1NTUsH79egAGDhxInz59WLp0KQCdO3dmwoQJLFy4kLq6OgCmTZvGqlWr2LdvHwDjxo2jvLycDRs2ADB48GC6d+9OSUkJAN26dWPcuHHMnz8fay3GGKZPn86KFSs4cEBmyCdMmMD+/fvZtGlTVutpyhStJ60nradcradoGGtt1JPpxhjTDhgEdAUuBK4GZgCdgdeBQe7rEZ78LKCftfbseGlPnDjReo0vW1x9JzxwY1azVBRFUZLAGLPMWjsx8nhWpz2ttUfcmt9Sa+33geXAt4CdTqRvRJTeHH03qCiKoijNokXW/CLyLwA2Ig5wpnfCGNMeOANZE1QURVGUtJG1NT9jzG3Ia9C24u/inAF80lprjTF3Aj8wxqwB1gE/RNYF/54tHRVFUZTcIJsbXvoCj7q/h4B3gE9Ya19w538LFAL3At2AJcBZ1tryLOqoKIqi5ABZc37W2svjnLfAre6nKIqiKBmjpdf8FEVRFCXrqPNTFEVRcg51foqiKErOoc5PURRFyTnU+SmKoig5hzo/RVEUJedQ56coiqLkHOr8FEVRlJxDnZ+iKIqSc6jzUxRFUXIOdX6KoihKzqHOT1EURck51PkpiqIoOYc6P0VRFCXnUOenKIqi5Bzq/BRFUZScQ52foiiKknOo81MURVFyDnV+iqIoSs6hzk9RFEXJOdT5KYqiKDmHOj9FURQl51DnpyiKouQc6vwURVGUnEOdn6IoipJzqPNTFEVRcg51foqiKErOoc5PURRFyTnU+SmKoig5hzo/RVEUJedQ56coiqLkHOr8FEVRlJxDnZ+iKIqSc6jzUxRFUXIOdX6KoihKzqHOT1EURck51PkpiqIoOYc6P0VRFCXnUOenKIqi5Bzq/BRFUZScQ52foihR+cpXvkLv3r0ZM2bMUeduv/12jDHs3bu3BTRTtG6ahzo/RVGicvnll/P8888fdXzr1q289NJLDBo0qAW0UkDrprmo81MUJSrTpk2je/fuRx3/1re+xW9/+1uMMS2glQJaN81FnZ+iKEnx9NNPM2DAAMaNG9fSqigRaN0kTladnzFmmjHmaWPMNmOMNcZcHnH+IXc8+FucTR2V+IStNfzoRz9i7NixnHrqqZx11lls3769BTVUMkVlZSW//OUv+dnPfnbUOW0XLUusulGOJtt3fkXASuAGoCqKzFygX+B3TnZUUxIlbK3hu9/9Lu+88w7Lly/nU5/6lF6AxykffPABGzduZNy4cQwePJjS0lImTJjAzp07tV20MLHqRjma/GxmZq19FngW5C4viliNtVZrqxUzbdo0Nm3a1ORY586dG8OHDx/W9YbjlFNOOYXdu3c3/j948GCWLl1Kz5496du3r7aLFiRW3ShH0xrX/KYaY3YbY9YZYx4wxvRuaYWUxPjBD37AwIEDeeyxx3SEf5xw8cUXM2XKFNauXUtxcTEPPvhg0mlou8gM6aibXMZYa1smY2MqgOuttQ8Fjn0BqAQ2AoOBXwBtgNOstTUhaVwDXAPQv3//0x577DEAhg4dSqdOnVixYgUAPXr0YPTo0SxYsACA/Px8pk6dSklJCWVlZQBMnDiRXbt2sXXrVgCGDx9OQUEBK1euBKB3796cdNJJLFy4EICCggL+umQK105dSkVFBQCTJk2itLSUbdu2ATBixAjatGnD6tWrAejbty9Dhgxh0aJFABQWFjJp0iSWLFlCVZXMAk+ZMoWNGzc2TlWMGjWK+vp61q5dC8CAAQMoLi5myZIlABQVFTFx4kQWLVpETY2YaOrUqaxbt65xFDhmzBhqampYv349AAMHDqRPnz4sXboUkNH5hAkTWLhwIXV1dYDc3a1atYp9+/YBMG7cOMrLy9mwYUOjDa+55hr++Mc/AtCtWzfGjRvH/PnzefTRR6mtreWhhx5ixYoVHDhwAIAJEyawf//+xruDbNXTlClTWLq09dfT/fffz4svvkinTp2YNWsWAwcO5A9/+ANPPfUUbdu2ZdCgQTz11FOsXLky4XoaPHgw3bt3p6Sk5Kh6stZijGH69Olpq6d169bx/e9/n3ffffeoerrvvvvYunUrV1xxxTFdT5m4nmLV02233cbixYsZMGAAjz32GAcOHOBPf/oTJSUl5OXl0atXL2655RbGjh3bqq+n8847j8WLF9O9e3c++OADlixZwh133MGcOXOorq6mffv2zJ49m6KiIv75z3/ywgsvYK2lf//+3HnnnYwaNSqleiouLl5mrZ1IJNbaFvkBFcDlcWT6A7XABfHSO+2002y2ueqOrGfZati4caMdPXp06LlNmzZFPadEZ/78+XbZsmVNbPfCCy/Y2tpaa621N998s7355ptbSr2E0HaRfo6HdmFt9HK8/PLLdtmyZbZnz56N5Uhn+YClNsRntMZpz0astduBUmB4S+uixMYbBYNstz755JNbUJtjk7Dnts466yzy82VpfvLkyZSWlraEaimj7aL5HC/tIlo5zjzzTLp3705hYWFjObJRvlbt/IwxPYEBwI6W1iXdhG0L/+c//8no0aPJy8trnEJJV7x06vmRj3yE4cOHs2rVKvr06cODDz7I9773PcaMGcPYsWN58cUXueuuu9KqR7qIZr9u3bphjOHEE09slBk0aFCjXW+77bZm2ziRvIPHI/P761//yic+8YkUS555wtagZs6cSX5+Pu3bt29sF5lsr+km29dbKgTbxbGgbzQOHjwY2r4z1u7Dbgcz9UMedTjV/SqBH7vwIHfudmAKst43A1iE3Pl1ipf2sTbtGTYFsHr1artmzRo7ffp0+9Zbb6U1Xrb1bK1EK88jjzxiJ0yYYIcOHdooM2zYsMZy/uMf/2h2mRPJ25s2jLTxL37xC3veeefZhoaGZtugOVx1R3Lt/lhvP61F/2jTycF2cdUd1n7y+tahbzSileOmm26ynTp1Oqp9p6PdE2XaM6uPOgATgVcC///U/R4GrgNOAb4MdEXu9l4BPmetLc+umpkn7HGBkSNHZixeqmQ7v0wTrTwjR47knnvuaSJTUFDAiBEjABgyZEhjOJN5B497zJkzhxdeeIF58+Ydc48KHOvtpzXr//DDDzNnzpwm7aLfidPo3n1TE7nWom80Hn74YebNm0dxcXGT9h1WvnSS7ef8XgVileL/ZUkVRTkm2L9/P3/7299YsmQJHTp0aGl1lFbC888/z29+8xvmz59/TLcLrxyPPPIIl1122VHHM1m+Vr3mdywQNse+f/9+Zs6cyfDhw5k5c2bjFvIw2fr6+lDZVHR46623oupwySWXZFzP5toimmxrJlgOLzxy5Ej69+9Pfn4+HTt2ZMaMGQwfPpwZM2bwhS98gfXr14eWb9euXUetma1fv57Dhw8zc+ZMTj31VL761a+2UEl9FjzeeusuWn14us2YMaOxPvr370+vXr1apBzJtP+wtdTrr7+e8vLyVtUu4pWpb9++TJ48+ahybNq0icmTJ7Nq1SqKioqyVj51fs0k7JVOt912Gx/72MdYv349H/vYx7jtttuiyu7duzdUNt06WGszqufVdzbfFtFkWzPBcnjhvXv3cu655/Lmm28Csq6+fv36xrWG4cOHh5avT58+7Nixg9raWkpLS7nyyiuZNGkSzzzzDMuXL2f58uX86U9/ynoZIxn+4cTq7uo7pV1kk2j14enm1cH69es599xzOeecpm9PzFYbTKb9P/7440e1i/fff5+tW7e2qnYRr0w33ngjl1122VHlqKyspLa2FmstFRUVWSufOr9mErZ997///W/jLfxll13Gf/7zn6iyZWVlobLp1mHZsmUZ17O5togm25oJlsMLl5WVceutt9K9e/fGCx2gtLSUHTtk4/KxUr4wZF2pddZdtPrwdCstLW2sj1tvvZXXXnutSfxsleN4af9Bjrkyhe2CORZ/LbnbM3IHU5cuXZrIde3atTHsyX7hC1+wffv2tYAdMGCA/ctf/mKffPJJa4yx7dq1s71797ZnnXXWUXl68fLz85vE69OnjzXGNMYL0yGTejbHFonIpoto9issLLSABWxeXp7t0qWLbdOmjc3Ly7Nt2rSxXbp0sQUFBaF1EyzHxo0bbV5eXpOwV462bdtaY0xj3oWFhUflXVBQ0KjTgAEDYraFlsDb7ZlI3V11h7VDx4fbO5Nli1Yfnp7BdtWpU6eY5Wjbtm3G9E93+28pewdpiWs6HrSS3Z6tmrvuuosHHngAay1XX301N954Y8zzcGNYMkfJVldXNx7/61//yvvvv4+1lltuuYVbb721yQOcXbp0ibnO8Pjjj4ceHz9+PJ/61KcaX0vUtWvXuOWNRbJ6Znt6K1Ei6yya/SorKzOuS4cOHThy5AhDhw7FWsu+ffs4//zzo+Z9/vnnc/Wd8MCNTY/Ha6fpJphf55OuZsz0Gxvbx+jRo921EM5Hv/z4UfqDlC3dumXCFh07dmy8Ww+SLv0TJbKcq7gx1K6Ztne6CWvfXl8SVo50otOejpUrV/LAAw/w5ptvsmLFCubMmdPk7RRh5w/tWR+aVteuXbnvvvt48803ef7558nLy2P9+vWsXLmS2bNnM3To0MY0unfv3nhx7dixg9690/Meb2/9KFa60WTSqWcieqQimwjx6jRT5OfnN5ajTZs2jVNBnTp1oq6u7qh2kQzZLlNkfltWzWHLqmey1o6T0S2aLYL10aNHj8b62LFjx1FfPEh3G0yGWNdjon1Pa6Ml7RkPdX6O9957j8mTJ9OhQwfy8/OZPn06Tz31VMzzm955KjQt7wWzHTp04LHHHmP8+PE89dRTvPfee4wfP568vLzGNAYOHMjDDz8MyHMtn/nMZ9JSnk9/+tNx040mk049E9EjFdlEiFenmaJTp06N5Wjbti3FxcWAvIy3R48eR7WLZMh2mSLz6zdsOh+UPJ61dpyMbtFsEawP70XWnp4zZ85sIpvuNpgMsa7HRPue1kZL2jMuYXOhx+KvuWt+q1evtsOHD7d79+61hw8ftpMnT7bXX399zPOjpl4fuob0xhtv2MLCQjtkyBA7ffp0O3HiRHv99dfbc845x7Zp08bm5+fb/v3726FDh9orr7zSfvSjH7XDhg2zH/3oR+2+ffuS1j1Mh7179zZJ94ILLogr4+Wdip5X3ZGYHl68ZGRTJV6dpoNgOQoLC22XLl1sfn6+zcvLs3l5eU3WRk877bTQdhGLyLepZKNMsfLrfcJkW9TthITaR7Jvg2mubpMnT7bDhw8PrY+CggLbu3dve8YZZ9gzzjjDDhs2zPbu3dv26dMno20wGsm0/2h9TySZtnc8Urmmw/RNdznQNb/YjBw5kltuuYWZM2dSVFTEuHHjGl+sGu386+/l8/jjj3PHHXfwl7/8BWMMc+fO5ZJLLuHuu+/m3nvvpaGhgdNOO438/HyeeeYZHnzwQe69916KiooYNWoUhYWFzJs3r3Ge++GH/bROOeUUZs2aRfv27aPqffWdUDTpcW7+8NE6zJs3r4lsmJ6RMkBKerafMCvqelpYHtHsFiabKvHq1CNs3SF4PGwNIqh7v3796NatG3l5eXHrzLOr1y5efSf/qPSq2p3CtItnMeu7R6eRaJnC8PLYt28fVVVVFBcXM3bs2Jj6RubXvf84ep8wmRu/PCa0fSRCNHsnS5gtCgsLGTRoUFLXUCSxypGu9ahkrpVofU+ipMvewTYaZtdErunINNpPmAUkXjfpRKc9A1x55ZWUlJSwYMECunfvzvDhw2Oe79xrONu2beMPf/gDS5cuZeXKldTX1zN79uyoacXK4/DB8LTikUi8aHqmYouw/Da8HV/P5uiTKvHqNBWCur/wwgusXbuWG2+8MSW7hrUh2xDbnqmUycvjv//9L4WFhXz84x/nu9/9bkJ2D+ZX0FF0zoRdUyFSj169emWlXWWbsHaTTRK5XuPJhJ1Ptt9IJ+r8AngfQdyyZQtPPvkkF198cczzJ06Q83V1dVRVVVFXV0dlZSX9+/ePmla8PMLSSoRE4iWTdrJ6duicmJ6p6pMq8cqRKkHdGxoa6N69e0p2DWtDdbWx7Zlqmerq6qiurqauro7y8nL69OmTkN2D+W16R3TOlF2TJVKPz3zmM1lpV9kmWrvJJunoY9LRb6QLnfYMcOGFF7Jv3z7atm3LvffeS7du3WKen/1uNwYM6MZ3vvMdBg0aRGFhIWeddRZnnXUWZ5xxRmhasfLo2HVAaFrxSCTegAHJpZ2snh1Ojq9nc/RJlXh1mgqRuo8aNYrLL788JbuGtaEug86iOIY9UymTp/PkyZMBeOWVV3j77bcTsnswv9MvvJeCDt248MLw9p1tIm0xevTorLSrbBPWbrJJItdrPJmw88n2G2klbCHwWPy11EPu+/fvt2eeeabdvXu3PXLkiD1hzGfs9EseaZRZs2aNHTduXOOvU6dO9o477miShvf30l82Teszn/mMfeSRR2KmES1eUAdrw/X80Lm/bUxzxIgRNi8vz/bv3z80j3h6RuYXGS/SFqNHj7Zt2rSxP//5z5vYLZ69giQjG4toi+vBMl/0/XDdd+3aZXv27Gnvvffeo2wRabdoecRqQ8ku/EeziZfHunXr7IwZM+zZZ59tZ82a1djGEiXaZoSr7jg677YFnezk844WTqRMqdZtpC0j22ZQzxEjRtj27ds3tvtOncL1jdQ9Wf29a6t3795H5RfZFyRa7mj2Hvex7x8VP16ZEiFo13fffdd27tzZDho0qEm/Ee+aHj16tC0qKrIdO3a0t99+e2PdJNpuUgXd8JIZ5s6dy5AhQ+jVqxcAg8dewO5NbwBfAmDEiBEsX74ckJdDDxgwIOoDp9vWNU3rggsu4I033uBLX/pSzDTC4t12v69DVD03L2Z1RLpvvPEGxcXFSesZmV8YQVs88cQTXH755Vx66aW0bdu20W4jRsQua7T04sk2l669w3WfP38+o0aNYuXKlbRt2zZhWwSJ14aSIZpNvDyWL1/O0KFDmT59OosXL27SxppLZN6dug3ghFNSq49U6zbSlmH1EZb2a6+9xumnn56yvonov2TJksZry8svskzJlDvM3ieffi2zf/arJvHTUaagXXv16sXdd9/N4sWLufvuuxv7jcWLF8e8pv/5z3/y3HPP8eyzz3LRRRfRq1cvbrv/6Gu+Oe0mGXTNr5kMGjSIxYsXU1lZibWW7evm0bV3+Pez5s2bx4knnsgJJ5wQer6oW9O05s2bd9S3uMLSCIsXqUM8PYPppqJntDJHY9euXRhj6NWrV1S7xdMjVdnmEtR94MCBrFixghNPPDFlWyTThpIhaBMvj969e7N48WJeeOEFTj755NA2lg7mzZtHpx4n0ql78+sjmbqNtGW8+vDSfv/99znxxPToGy2P4LXl5RerTMm2/0h7e/HTUaYwu44cObKJjvGu6UGDBjFv3jwGDx7cGA675tPVbuKhzi+CeK/pijw/adIkLrroIiZMmMApp5yCtQ2cfPo1jbJB+dmzZ3PxxRdHzaP3CU3Tamho4Jprrmki46URL56nQyJ6Rqabip6R+cVj+fLlTJ8+Pao+0coajViy6X71WlD3q666ikGDBnH//fcnbItk2lCiaYQRtImXx7XXXsuePXuYM2cOf/7zn0PbWFheYfnF0mH27Nlp25QRr26DekTaMl59eGkn09aSJezaSiS/SJlk7Z3OMoXZ9ZprrmmSR7xretKkSXTv3p2NGzdGrZt0tpu4hM2FHou/dK35hc3nHzhwwF544YV2xIgRtkvvk+0bb7wRVTZynccL19TU2B49etidO3c2iRcmG41gGmH5xStHND2D6YbpGa1MYflF2urcG95IqRxhMtGIlA3qcPLJ4TqE1Wm0eNFsFY1odos8HxkOHouMF0037/iwYcNsp06d7KBBg+zJJ59s58+fn7D9PCLzCLbzZMrk2eiLP9uZcFsJ5hcknr0TuW7i6blly5bQazPV/IKEXVvB/KLpGe0aiSUbtHe0/iZRgnUzfPhwO2PGjKPqKVq/EdQxmTLFazepQpQ1P73zS4AbbriBs88+mzVr1nDBd1ekNE303HPPMWHCBPr06ZOyHulII166zc0j0lZd+xxtq0TySEaPSNmgDitWhOsQVqeJxMtUHcQjmm7e8dNPP53f/va3rFixghUrVlBaWpq0npF5pDod6tmoQ6fYeSeSXybt7aVdUlKS8TyC11Yi+aXS/oP2Tud1PGnSJM4///yj6inZfiOeTKLtJl2o84tDWVkZCxYs4MorrwSgTX67lL6Y8Pjjjzd7CiIdacRLtzl5hNmqoLBrzPwS0SkeQdlIHdq1O1qHMD3z8vLixktWr3QRrUze8c9+9rMsWLCAa6+9lq5du9KuXTuefvrppPQMyyPVL4MkYqNE88ukvb20s5FHsvml2v5TiR9JsG7KyspYuHAh3/jGN4Cm9ZRsvxFPJtvXljq/OGzYsIFevXpxxRVXMH78eBbMvorDhw8fJRdrPr6yspKXXnqJCy64IKE8w9ZYEkkjkfXKWOmmomeQMFvV1jS1VWQeYTono0ekbKQOV111tA5heq5atSpuvFi6N3ddMdZXz6OVyTt+6aWXsnv3bkaMGMG4ceO4/PLLo9rPyyMyv7A8wtp5PBKtu0TyS7Y9BolXH17aZ599dsp5xCPs2kokv+a0/2TjhxGsmw996ENUVFRw6aWXMn78eEZMvorLf3M4Zr8R75pu7jWfLtT5xaGuro6SkhKuu+463n77bdq268htt92WVBodOnRg3759dOnSJWU9Uk1j8ODBnHLKKZx66qn85/cTY6bbXD3DbLViXlNbJZJHPJlgmaZNm9ZENlKHjh2P1iFMz7/85S9x46WjHlMhWpm84xdccAE1NTWMHz+eT3/603Tp0oWvfe1rdOnSpYmtJk48uv5j5ZFsO4fEbRQrP0/n008/nSFDhhyVVrw2nYye/fr1C9U3mEdBQUFK+YVdW8H8otVNMu0sTDaR+GHla9euHYWFhXzuc5/jrbfe4rrrruOxxx5j3759tGvXrsk1nWy/EU+mJa4tdX5xKC4upri4mEmTJgEwZNxFlJSUtLBWyfHKK6+wfPlyzrtpaUbzCbPVvtLM2Mor09KlTcsUqcNFFx2tQ5iemzdvjhuvpYhWJu/42WefTXFxMddffz0lJSVcdFHTNhrNVvHyyGQ7j5dfPJ2z0aa9PPr165ex/BKpm0wRWb7+/fuzdetWFixYwAknnMCkSZMoLi6mT58+7Nq1C8jsNZ1t1PnFoW/fvgwcOJC1a9cCsG39PEaNGtXCWrVOwmzVtW92bRWpw7x5R+sQpuf48ePjxmspopXJO37o0CEGDhzIE088wahRo5g3L/k2GpZHJtt5tvNTEidYN3379qVdu3b07dsXaJlrOlPoG14S4O677+aSSy7hyJEjlNmh/M/js5JOIx2fFUklDWMMZ511FsYYOpx4begzT8F0m6tnpK2mXXy0reLlEe+zMWFlCsoGdRg6dCinfvxoHcLqdPPmzXHjpeuTNskSrUze8UOHDvHuu+8yYMAAhg8fTucPy/mgra699log+jNvkXnMmpV8O4fE21C0/CLr97V/NNU5kTadiI4Q/ZNVwTwqKipSyi9aHp59otVNMm0smmy8Oggr344dO5gwYQK9evXinHPOaVI3JSUljB07tsk1HVamZPVMRud0o84vAU499dTGaYmr74RsvsO3vr6eiRMnMmDAAPp9fE7S8V9//fXGr0yMHD+TLn1OBqalX1FHpK08Ui1HMN5///tfJk6cyIknnsjcuXOPKlNQNjiNFLbAHlan3bp1ixuvpQjqC75ukccjzwfrf+bMmQycdnT9R7Nbpomme2SbXbDgZKZN8+s3kfpP5VqJpsOMGTO48847Ofnkk6PmN2dO867NaHWTKcLK17VrVy699FJ+/OMf8+Mf/5i7776badOa6tOaronmotOerZy77rqrWa+f8j4p0rt3b0445Xz2bHkzXaolRarlCMbzwt4HNCPL1FxbHY8E6//888Prv7XZLbLNvvlm0/rNRv0Hdfjc5z7Hm2++mfb8EqmbTBFWvrFjx3L++eezfv16zj/ft/vxijq/VkxpaSnPPPMMV111VUrxDx8+THl5eWN429oX6dZ3TDpVTIhUyxGMV1VVxTPPPMMll1xCXV0d0LRMzbXV8Uhk/b/44tH139rsFtZmx4zx6zcb9R/UYffu3Tz33HOMGTMmrfklUjeZIqx8w4YNY+fOnbz44osMGzaMF18Uux/P6LRnCNXV1UybNo2amhrq6uooKL6I0z7x06yv89x444389re/bWyoybJr167GN8LX1dUxcNQXGTjy7HSqeBRhc/upliMYb/Xq1cyZM4e1a9fyxhtvMG7cuCZluvHGi5rkkeoaRLbXHZIhTLdYa1eR9f/FL36RTR2b1n9k3aS7/HW11Xz4w/61dNFFF0G3n0YtU1ibPfvss7noIqnfROu/OQR1qKyspKKigltuuSVuftH6jXh5RKubTBFWvu9973ts2rSJbt268YMf/IAvfvGL/HvN2ZztVGrN10WqqPMLoaCggJdffpmioiJqa2sZMGwqA0d+ApicNR22rJrDib17c9ppp/Hqq6+mlMbQoUNZsWJF4/8tMV+fajmC8X7961/Trl07TjvtNMrLy5k2bVrjGsvVd6bHVscjkfUPTdtANuzWJr/ptTR16lT6Tol+LYW12Tlz5tDb6ZmN+g+zW1CfaPkl02/Eq5tMEqt8QY6n9b0w1PmFYIyhqKgIgNraWhrqa8GYrOqwa+PrrFrzNM8++yzV1dWUlZXRf+eX4MZHs6pHc0m1HMF4e/bsobKykqKiIoqKiigrK+NLX/oSjz76aLPyyHWyYbfIa6m2Nvlr6fXXX+fpp5vq2ZL1H5afp09L9xtK4uiaXxTq6+s59dRT6d27NwNGzKT3CZOymv+HPvVrSktL2bRpE7Nnz+ajH/0oZ34ptYu5JUdwqZYjGO+ZZ57hk5/8JBUVFY1pFE58NFS2ubY6HolW/9myW/Bamjkz/rUU+eq1X//6aD2zUf/RXgUXlp/niJPtN1rq2gyWKTKcK6jzi0KbNm1Yvnw5paWl7NnyJvt3rGxplQDYunUrZ555JiNHjmT06NGsnH9XS6t0TKB2azmC19Kbbx59LR3LdbN7924WLVrUqPs999yTln6j4kBTm9x1V/NscizbOFOo84tD165d6XfiDErXPN9iOsyYMaNxjSM/P5/f//73vPfeeyxevJjVr9/LgZ2rW0y3ZAiWI9V48dKIdv5Ytls2SLVukqFr167MmHH0tZRM3aRa/5nijDPO4KWXXmrU/d5772X16tXN7jfy8pra5N57m9detf0fjTq/EPbs2cPBgwcBqKqqYtu6uXTtfXLLKuXo168fEyZMAKBTp0507TOSw4e2tbBWrR+1W8tQVdH0Wpo79+hr6Vium6Du1dXVDBs2jG3btjW73+jQpalNRo5snk2OZRtnCnV+IezYsYMzzzyTsWPH8qEPfYgBI2YyaPSnWkSXWHPwmzZtYl/p21lfj0yFVNcSkvlsUKJ5HEt2ywaZXOepLGt6Lc2cGftailU3qXyyK5NE5rV06VLmzp3Lt771rbT2G5s2beLtt9PXXrX9C7rbM4SxY8fy9ttvN/7fGheBKyoquPDCC5l8/p20a9+5pdU5ZlC7xecrX/lK4+MFK1c2b627R/+xPBm4liD69XQs101FRQU//OEPmT17dszv2qWS7oUXXsidd97Jc1uab5Nj2cbpRu/8jkFqa2u58MILueSSSxgyNnsffzzWUbslxuWXX87zz2d3jftYrpug7un8GGu60z2WbZwJ1PkdY1hrufLKKxk5ciTf/va3W1qdYwa1W+JMmzaN7t27Zy2/Y7luMqV7utM9lm2cKXTaMwot9emaeLz++us88sgjjV9h3roHPvTJXwHntLRqrRq1W8sS63o6lusmUneAvh/+Fc/f3zzdd218nTkh6aZqk2PZxplCnd8xxtSpU7HWNv7fGtcjWyNqt9bLsVw3kbpDevTvOzS96R7LNs4UOu2pKIqi5Bzq/I5Bsr2l+3hB7da6OZbrJlO6p7vNHss2Tjfq/BRFacLFF1/MlClTWLt2LcXFxaxd/GBLq6QoaUfX/BRFacLjjz/e5H+9W1COR1rlnZ8x5mvGmI3GmGpjzDJjzBktrZOiKIpy/NDqnJ8x5vPAXcCvgPHAG8BzxphBLaqYouQYesenHM+0OucHfBt4yFr7gLX2PWvtN4AdwHUtrJeiKIpynNCqnJ8xph1wGvBixKkXgdOzr5GiKIpyPNKqnB/QE2gD7Io4vgvom311FEVRlOMRE/kWgZbEGNMf2AZMs9a+Fjj+E+Bia+3JEfLXANe4f0cAa9OgRk9gbwrhTMlmO57qprq11jxUt9zUrbmcYK3tddRRa22r+QHtgDrgsxHH7wXmZ0mHpamEMyWb7Xiqm+rWWvNQ3XJTt0z9WtW0p7X2CLAMmBlxaiay61NRFEVRmk1+SysQwv8Cjxhj3gReB74K9Af+1KJaKYqiKMcNrc75WWufMMb0AH4I9ANWAudYazdnSYX7UwxnSjbb8VQ31a215qG65aZuGaFVbXhRFEVRlGzQqtb8FEVRFCUbqPNTFEVRcg51foqiKErOoc4vSYwxprnHW4Os6qa6KUouo84vAYwxJxhjJvj/SmdijBkc67gxJi8ijdPSIRs8noys6qa6Rci0CiecTVnV7fjULRV0t2cMjDGnAN8BpgIFQFfgZeAF4MMxjp8BtAW6AW8BDcDgNMgG80tGVnVT3e4HXgVGAzXW2uXGmDxrbYMxpijyONABGAXUWmvfjiUbeRx4J3AsoTSSyU91U92cEzTW2gZSRJ1fDIwxS4DNwGvA2UAh0BmYAFQAjwGDQo5vBd53fy8FioA9wBZ3PlXZYH4fdn8TkVXdVLdTgXpgt/u/Hvg/YBNwEfJC+X7u+CrkxRK1gWP/B3wAfD5CNni8LdAbcb7JpJEpWdXt+NTtbqAEINL5ec6RBFDnFwVjzDBgOXAS0B7pXJYh7x8dA6xBXhIwPHB8LPIFij7Iw/n1TnYncNil9Y7LIlnZ7UhHNtzJjwYOAVVIw1mJNNAxQKWT7aO6qW6AccfLgTKXzmbgRGAY4hB/D3zRnT8d6XDecfkEZT9A7iK/6PLxjm8CjgCLkOvi8+5vWBrvAw+kkJ/qproNBEYisx43WGvXeXeBQDtrbbUxxtgEHJuu+UVnAFL53YBPAPOBm4G5SOfRBhiCdDKLnCzueAPiMPchUwYDgE5I51SRomx1IL/1SCfZNSKNvU6uCHkruuqmulW4vwZxtn2BkxGH28OlUQNcDZwCDEUcbQ1wgpPtBHREOqoTgGudbBFyF9mAXCcnuXTPdGWpQEbsIyJk26aYn+qmutUiDnkk8L/GmLbO0Q0E1hhjeiXi+ECdXyyWub/3IR3SDuBt4CfI9FIlUIqMhCYjo5dqpHM6CHRBKqsAGcmvcnFGpyh7KJDfCUijqwSeRDrIyDS2qm6qm8vvJKQj+bL7e9idK0K+onIE6YQ+QEbwde7XFnGcDcB+979F1hM/AOYhnZaNkD2ArOG0dX/rgHUB2boU81PdVLfDAfmPA08aYy5D9mbUWmv3kCDq/KJgra0AvoR0NjOAjcjoo7s7bpG58DeAfyGdz+3I6Ls9svHgSSe3wx2rQdYPU5EN5vcP9/8up5NxOvzRHd+TpG6FSegWJhtNt7Fp0E3t1ny7tUNG01936b4OfM+F2wArEAfYGeiFv3Fmrkuji5MtRJyqJ3s2UIz0I1vc8aDse0gHaYFpAdlU81PdVLcpSNu9GpnGPwH4GtK27yAJWt2LrVsDgTnjd4AfIYa+FPgU0rH0RdZkypBRdTEySvkMMiVwCOnAhuPb+DSkQk9uhqyX38AQ2Y8gmxry8acMPFkvjb6B/IY5WYNsnIjML1nZoC0iZacGdOugdsu63fKRO8wvIiPqV5Ep1DbAdcD/uPQeQDqjk915b6T/A6TT8Y4HZU9DOp8fIk7278gdgJfvYafHq8gI/msuvbD8ChPILxnZeLpVJqFbIrZQu2XHbrOAc5Hr9RzgMnf8YZJAN7xEwRjT3lpb7YWRTQXnIZ3PXmT95HHkTvDHwEcR4+8CHnXHf+SOP4J0Pm8A305RdhvwFFLhYbIfQxrCYGTzwlNIY/pxhOxsl99PkZHb35we8wP5JSP7twhbhMl+HFk3HYJ8skrtll27neni9kY6sZOQqdHu+NOedUjHVoB0kA3464nvISPsHsimg0jZSvy1mHbuV4hMYeW7vzVJyL7n6qOHK19zZCsTKF91ErLxbKF2y47d9gJPWWt/aIz5CzDWWvthkkCdXwTGmO5Ih/MpZIfcPqRSOgFvAs8iGw4OIJXibYg5H5jojhngFWRbbnNlPxlFj+eBxUjjiCcb1NmbPki3bKckdFC7ZcduHu2ttZUAxpgOiAM8x6W1DVnLXoTcPd6LdIYvIztI9zndLkSmtmYFZO9G7iRfcrILgHHAH5Bp2leApUgn+YeA7DJkVuWkENnDrnyfc3o9mILsMOCeCNklUcp30JVjjzuWqi3Ubtmxm5ffMqdbHjJofc1a+y+SQJ1fBMaYB5DppvXI6GM4sn5yBJle6obMNf8fMmV0DzJ1VohsIDDIBpl6Fz4EPI3MSd+dguy6CD1qkK3pA5CL4k5kW/DpyOLxoBCdewRkh7jybUCmz5ojG7RFAzJVkYis2i07dhuJTHVORmYuypCRfQO+s3wT6WQ92anxZK21R4wxpwIXA2c5veuQu8n/iyEbLe1ngDettQfTLBss36gkZBO2hdota3bLg6Of62sW1lr9uR/SiVQj6yzB8ChXKbXIyMQijXaP+3udk/0d/mi8wsk3R/Yyp0etayie7BEnexDp1BuQ7cCe7PkBneucrDdtEpT19PhUirJBW1hkGu6sENl65G5E7ZZdu+1CBgG3Iw602qV7xJ2vdzK/Qkbuy5Hp1V2uLA3IXcKOgOxPkDvb5cjdwk53fJfL27NrpOxyp4eXtlcPm538+67eljtdfp+ibFDnoGyi5UvGFmq3LNjN9c3tkOf4QGZGTLP7+5Z2OK3ph2wg+ADZiOCF+yGbXdYi0wO1rqHudRVUh0wdeZX3Z9dwvAZkkVFNKrJrXSOxyDrO+gjZ/a5xW2T9yJP9JtJBWtfAvIvqsDt2AHjXxW9AdkklK/tswBZl+DsStwTK96dA+erUblm1mzdYW42/O+/ygB51Lk3r0q1CNjj8L37H+LvA+aDD3o08dnFHQPZbLs9KfKcelD0V+AXSsd0UkPUc9gEnf7AZsp2QO39PZ4u/Nd6TvTmg8x+dTG2KtlC7Zcdua5BNWacgMze3I+vyjWF1fs13fv2RjuKGiPAvkdvwbshc8y5kR9IHrqIO4ndM25HOZysywtmOvIonFdkDTr4Bmc4Kk/0P/sK4J7sZfzT1e+SB6BeRTRVex+t1ynUpygZtcRtyN1GJdMxh5VO7ZdduZU6HLe5vPTKNVIZ0bC+5+PudDl75DyAdWoMrz5v4ndB+fMdaESK7xIW9gUhFQPYd/I7yRWTdNSi7I6DHmhRl+yIDEW9AUYts/KlzstucnT5w/3uyqdpC7ZYdu9U62Xfw313bF7gCaEi5v29ph9OafsiayU+RKaIHkV105chW358h225fRdZU2iFz06tp+qDnSlc5v0a2yy9H1oGaI7shEH4EmZpbjoya+iAdXn2I7KvIQ86ebFvkecVaZDHZ0yMV2UhbeLLL8EeFK1z5fqN2y7rd3nVy97rz1ch2cYtsGBiIdCyvAE84md1I52eRDumA0+eegOzP8d8asz9E9n+dznuR5xE9WW8qqx6/Q/tfl+ZeZDfqUvw781Rk33V/X0c65h3I9fykK99B/Lvt3U52QTNsoXbLjt0OINfqloBN3kDuHn+tzi99DjAPmf5agIwySpBR0GZk9FPmGsa/XGUMQRyjdXLe7fpK5M7xADLV5cn+3J3floCsl+5yJ+Pl4elxa0CPu9z5FciDoV4eYTr/GH+EtS4k3aDsT0Jko6UblH3XNVKLf3cSabdUbJGMjaPZIsxu0Wycqi2SsfGtAdmVyHpQLLslYoutyEPDO5GO5i3kDrIBmUIahzjHzyIv1PbumN/BnyJb7eT/X0B2JOJIV+BP8ZYjdxINyIadc5z8zBDZ9fjrUecjyws1yA7UT+JP1aUi6+Xx/QjZYPlWO5nKgGyqtlC7Zc9u1wJ/ceevCoQHqfNLvxMcAXwX6XQW4z/btxS5/X8amORkb0A6pu+7xnwEGbntQTqoSNnNLu33EpD10l2OjHT2hekRka4nG0vnX7u0YqbrZH/p0kom3X8jU4H1ceyWii2SsXFMnZOxcTNskUy6/0LuBuPZLa4tkN2E85DOYyn+M1PeYGMTcmfwFnI3eLuLX4l0RN4mGk/29072OWTU/7orl7cGWevqcZcrgyc7wMlWIlN8u53stpC0Xw6ku9TJRuocKZtour9z56qipJuKLSLTDZP10o20hZd+NLsFbZxuW8RLN2iL3wV0TcbGsWyRbHvLQwafq9w10BhO9aePOtD4gcR+wAWI8fcgz8cccOFJSAe0F3kQeT0y0t6BdFB1wAnW2rXGmELgQ8BCZPv8FmR++gJkkbYYGWm9hYxquiKNdWpIukeQB1E3INNpH0JeV9UGuYhqAzofcOffd+GPubAnNxe5sLZbayvcg/snII1ssks3LyTdPU5Pg9xZfAyZogvaYjX+tIR16a5HHiXA2a65tkjUxkFb7MF//dKryHN0dciFvy3Exm1SsEWyNsbpXIuMyiPTXY08+nDIhVNpb9a6C9sY0w65oxiPTM+OwJ/yPYy8SuqvyJTYAVcXu5Gprv/n9H0/iuzLTr4cuB4ZibfBnxq7P0K2BOngrkIccrsQPZ5Elhm8dL+KdKQFMWQTSdfTYwnSdsfFSDcVW3gOpyxBu3k6fzUBu6XbFsnYOGiLvcimk0RsnKgtkm1vTyGbc15GHnL/HSmizg8wxnwdeS6qHfIKnc74i73tQsJHkGexSpGR+v0uqQ1IBzbYyqc22iAN6+su3a7ImwoakM7Vm3OPTHcTMt/9u0C6dYhD3uDie+lG07nB6WJcHnlO3xdduhuRTn+9l661ttYYcz3yuqJEbVGDPHPm2WKWK8d6xGE31xbJ2Dioc7D8Xh7RbJyqLZKxcdAWydo4GVvkI88BfhzpnPKRAcAmpHMbijjSIuT1UW85/TYhU6VdkA4RxJlucGl0RhzyR5DHMgqQTWFLEQc+3MWvD6S7FnHG2/HfzFGHON86a+0u99B9VxfnY/i7D/sgA6kByCCgDBlMbXZph6Xby+m90x2PTDffpbHelbM/Mu2WrC16Iu0kLN22yNpyCTLAC7NFEVBu5fM7A5zuhyJs3FxbJGLjnkgb7Ya0kXLkJmAj8oahD4Cd1tpKY0xvp1v3gI0LUrRFou1tjw04KPcCkjJrbV0wTKq09PRia/gho46vuUo8iOysuxt/u/iCkHADcqHXul81sr70a6Rxrkc2LFQA33DHfoJ0StXu/7oo6X4QCNciI6HIdL30RgfCQZ3rkEXtmoCO3uaOBmRhu8zpXI1cSJHpHkSmKe4l3BZex1wXCEfaogK5YL1wsrZIxsYnBdL2dnF65T8YyCPSxqnaIhkbB21RjSzqR0t3YTNs8Qoykn4Tf2OM1yF64VoXrnI61SGd8/8gD+uPRhx5gQsb5M7k7y7tfU4fG/hbFUi3En+r/DuufJ2Rt3S0cWl74WC6b7py2UBdBfOIlq6nZzBdg9wxRKYbLH+qtkgm3aDOa5Gpas8W+TFsnKotkrFxUM9gHnVIW1sZxcap2iLZ9maCYW8yI9BvN+tZvxZ3PC39QxaAN7mGGBb+ATIXvy0QLsPfxBCs3H2uIXid1QF3fJM7dxh5/+Im1whedA3hrkC6b+I/KO0tLlcFwl66XgN9xh37BP5i9kvu/ATkXZENyB3DHpeGd9E04G/Ht/gPQXvpbnV6/sgdnxWwxSPu2L8D6e5x8l54N/7OMi+cjC2SsfG7yPNxDchmk8h0Tw3Y4t2AjYOONxlbJGPjHYHylweOh9mixpUplfZ2yB3/AOmUGoDfIlNE1qXzNv5uQK+jqwyEvW32CwNpLHRl24asTW5EHoD+Cf7Hd6uc7F78natHnN28sEXa96NOtgTZ+bcZeQbx68hdzJ+dfpXI4KDChatC0q12ddGArJt59eulexnyYvoPkM52fkDPVGyxztn9xkC633c2rnf6eukGbVEbJV3PFm8HbDwtRVskY+MvB2xRjrRB7zEMT08vvaCNU7VFsu3th8jgOA+5Uz4lIqwPuafB+U11lTgtED4TeUHwOmRd5h2kYzzfNbQ1SId3ABmZf+Aq+Ij71QcalddJeccWuHjVyFpSJTKP7aV7BtJZ7sT/1lU1fqfpdYCRHd5ryGdxGpCLvAoZ7d2FXIQPAo+5dD7Av0spx3/uZi9+538Y/1kyL92gLf7p5B/AfyRkHf4zc+X4I8FtKdoiGRvvDNhiRSDdzzhbzMZ/x+HfAzZ+NkVbJGPjbQFb7AnovjMQfs3ZtZrU25vXWW3Gv+t7Chll1yKd605kHaXU1dUjgTKX4jvmLYE0tgT034F0aJ4tnnHhrfjTsruQ6dAN+C9j9tI9TNM75MP4jnOt+/sPYE4g3a3IHUKpq+NgupUBWwQHBt75BmQN6nmXnncnnaotPH09WywP2OLFQL3+NcIW3qMLh/Gv3a0ROns2fjZFWyRsY9f3ebbw0u0VsMXfArYI2jhVWyTb3rxB5LPIxpg6p/M5Xri5vzwUb3F2FrJpYjeyjba7C9+OVNoRFy5DGtYcpGLXIqPhrUinux4ZoWxGviRQjqzX5CGV2xaZf69xxyqQ+XIv3TdcGnuQKa1SpLNZg9z+v4nMm3vrTJ1cHuOBi5CL7Uqn76fw3w7SgHSEpS6PVa58a5xOi9zPuDgbnX42kG7QFmcgF6tBHhgvdba83em+D1mz2oGMflOxRTI27hSwxYmBdNu6Y+c4fb07Lc/GV6Roi2RsvCxgi8WB8m8NhPORtRdvujaV9paP/2B0W/y78OGIM/0z/prgHqTjecGVrxJx0g0I7fE/LoqLZ93xcU7PYcB04L+Ic+npdOqE3HF838VfFtClIZBHvcujAOlEhzqZYcg3NP/j0u2FDEb3OLvMdnHfQjrc4LqucTJV+GvK45B1ylLkUZEDzbBFrdPXW4cdG7DF6cggJt+FZzlbrECcVDn+M3zWlavA6V0ZsPGoFGyRlI2NMY8EbPGCS3dqwBbznC0Ou7+ejU0KtkilvXV26Y5CNlPVGGMeQh4Leoo0kPPOz1pbC3wacSq/QCqvAul4apFK+QhSUe2RRdsqZNqgH9L4uiC34zcgt/8WeRYL5I5moQtXuPggjeHP+J20l+5/kUZ0o0uzCHlV0Tddut9APuZokQZvkA5xhwt7ehY5/b+GOIM8pHH3QjrqYuTN6de7tL6FOFuL7Izs6PSMTNezRb0r/1hkOqUf8JArYxtnS5DPQP0yYIvXXfhwhC3uD7FFsjYO2gJX/lmIU9mDOKyhyAXl2fgLUWzxKxee7/IFcT6p2Ngr/3nOLl66Pd3xUmRXKK788dpb54AtroqwhQmk6+1iBqnP77g0ByCbIzoio+wHnexvkPeM1iIOHmdXz0nX4a/F7Auk0Q+5fgqQ76zlOXvPxZ/Guhe/s97u0ngMf9NOvUu7HqmjjsiGlCUu3ZuQgUMHpGNuQNrpNS7dt5B6z3Pl8dLd5X4GaQcDXHqp2mJjIN29IbZo59ItRtpRHjLweBTp3B9E1uaPIEsGXpvyBjF1SFsPs4Vn4zBbJGvjcwK2GOX+3uLSLXTlfNDp9FOX7mKkrXq22JSgLVJpb56ttrl0HkaukYnIm5GaT0tPO7bwlGdeINwX6RxnI07lENKoqvDXfyLD5UhDWoOMctshX3nfibwPdKdL+waX3n/wHzS2+NMSwXQrI9N1aVzq0s0L5PF1l+5spLF6I75get4mFG+OvSGgb36Enl926Q5Epiqq8HeXxrLFUTp7Oobo/jWn81MJ2CIZG3/Tpft4hM7B8nt5ROr7PzFs3BeZ2q1KxcYu3ctCbDwAccxVyLRYcH03URubgM6evpORO85aZPPLTqfTW8hd5JGI8DyX/ybkg6CPItPXt+J3oF54Ev7O411OnxrkrrPM6Rst3UdcugbpTLcHwnvwp+9eQTpQbzORt564Bf/VbNHSDer8M3wHvAv/rj8dttjjZHe7dNe7tI8kma6n5/YQG9cia2dBW3hrfZ69Y9kiURt7etYG7H0Yef/oHJdXNBt7tgja2FsHTNYWkelGDaer/8/5Rx2MMYORTjMPmaKoQkbb/ZCLuyv+epAXrkCey9qEP9++GBnZfAKpqCpk9PIwsnDbE1kfuQzp+N53MtvduV3IqMwL1wG7rTzLlY+89aGntfYRY8xlyIjqgEvr7y7dE5A58mFIQwfZ8nwA2UbcjqYPZ+9EOuMG5MHoU5E7itlO52LkLqMHcsF4unnTlXsiwkGdPwl0d/p+wtn0IfyvLDyN3LX0QBp/gfubtI2ttQ8aY85Bpqo9G/dC7q66IhdzcYi9vSnG95ztw2z8L2Rqs8jlnYqNz0FG7rOQZ5kK8NtFscv/I8idyQqObgvRbNzYLlxenu5XItPHHVydDnDplbtjkeFD+NNOTwP3IS8IWIV8DPeFQPh1/HeiTnXlDU47lgXSPYj/5XAv3bkR6XnhD+FvOvq4i2eQDtWbGvTyOBiib7R0Z7k6NMhApoMLR7NFmM7fRR6o/pYx5kWX7h8R59AG/xM9keWPZ+OXkQe4VyG7HCNtvMfVr6dzmC0OpMHGQT2DedS78/+Nk+6DyLODno6j4tgiIRvHCpMGctb5GWOmIp3vp/DXijoid0OHYoQ74a8lGKRjLcBv4B1d+F3kFn4h0ph3409rGCcTFsZaW++e2WrEHZuG3J1+MorOnm5epR5GOqdY5fBkNyDTSC85fb3pmGh6tnE2sEF9Q8Kezp9xeQbtFk+3ZG0c1NnrHOLaOMLeH0mjjSPDns6vu583Ao9l40adPaLo3tflcRj/E00gO+O89ZlOSOfklWEX8nX3GvznzLxNS9cgHfNW4BLEWe9G1kifRDqubyBTce3xn88KK3s9sM5aW+Ue/P8KMuXXztn6/5D28ZxL9wpkfQv8jUZDkCm3asTZVyAdv7c7tgj5OOs/3P9nufAhl95C5C75Rfw1Vq/MDS69YLje2aIOebXWPwP6PoXU/wWIAxiIrMO95uJVR9i7i7PHNqTTX4c/LX62K//ZzsY7nO3/FbDxS/gzCvnIwDzS3snY+BAy5e852bbIoLAr/uapk5C77d0BG1fit4vtzt6P4LeL+chg9hPIQLU8BRvvR5Y1/h0tbK31pkibR0tPPbbglOdqZERzIXJ38QH+67jK8R/YjQx7dyHb8HdYVUTIHsHf9l+OdBavINvZByAXzM+RDmsesjW/ZyA8z53vh3QCP0MulNXInc0XkIa5IaBzRRTdvJ2KscpR6cIHkYa+Atkk8EIU3X7h9Hk+EH7B6dkXGSF68dYgF95W5IJ4Jknd4tl4TUDnhQEbR+oWzd4/cn+DNn4W+YDnpmbaeEsg7D2u8r7732sX85Ft3X1CdAuzt9cuXkCmswYga0AlSEdbjf8s1ZGIsDdt6k3d1uI/A1iDv6M4GD7sdPwVctdahHS43rfVooXbAG2C4YhjX0eWFzydY+nm6R5Nz/pAXK8t/MbTN46e+YiDOErfCN2/FqJvpG5h4aBu0ex9lI0jdEunjZvTFsJ0/jXi7Aqaa+PIcMZ9QEs7oRZyfNOQ0UqbkPBBZHS+AbltD4Y/cBV/eUi4Hpm+8tab6vDXgKz7eeuIFn+7r3UNygsfpun6VFC2FtkAcL1rzJOR6Ysj+NuG4+kWVg6L/3xPZN4HEtQtWpkakKmn3chI/BoXfs3pHE+3WDb21tmCOkXTJ1F7ezb29PyHs3eyNo5sN5E2Pkx4u0i0LQTD9YjjvwrpoNbhvxx7P/7Lrfc7nb11I++O0BtY7MJ//GIXchdS5455o/+/Ic7lWuRu5x1kCmw6MgV2TSD8m8D5GS7et5G7sm3IoyeXO73ej6FbQ0C3YLg+UKZK/C9k1OCvYz0T0PPaEN1uQh5tWhERvjEge7vT927kDmevO+7psydEt2j29gYkkTbeggycapGdwp6+H43QLdLeydh4RRzdwuwd2S724zvP9TRtF+8g9T8jBRtfgzjIPoizNBHhnqTZKba4I2oh5/dFZIQ/0oXfQ6aHvPAnXGVvjwj/xlX8T1wlHkHuHG504f9FprHeRR4srXYVewTfEXrrJZEbMMI678jOPdKhfh15ENoiC9TxdAsrx11IJ/sr/OeJqgP5e3c18XSLVabqgOzv8TeO3BJHt3g2/ixyER4M5O91eonqFulMvHje6LYBucNK1sbBdvOIS+vX+M/FVdH0biXZtuCVyTtfEQh/CrkztEjH/AEy2KhG7pS/GhLeiTh7T3Y3/keAw3TYH3G8IeR40O6RsruQu5KXkE7/cWT9Z1WCuoWVyXuW7VBAzwbCdY6lW2S4Bt/Jzcd/tGM20onXJKBbtDJ5Ng4OcLyft9kpnm6J2jjfhfcnqFtYmcJsHBzIpWpjzxnvQXbff8TZOD8YTqcfyNVHHZ5xf692YYuM6J5z4ZlIIy+MCHdEOqeLkGcBK5F574dd+OPICK4NchFvQaaj7sN/9s0iI5x6/OfICAnvx19XOoi/zdziL0bfif+dsLYJ6BZWjl3ICLEv8mzbJmeTUqTzNQnoFqtM9U5vkAvrq8j7LjcijzfE0i2ejecgdww7nexu/GedEtEtskx17n/PGXVw//8oBRsH280QZ+M+yDrLJqStzXE2yUtAt1hlOkLTZ9yeQEb+O/GnUauR50X7u7/LkCnTpfjPYf45IPsTd/4eZ+9yZMDh0cX9PYL/+EO9S8cLt6XpM2cWf720O/Js6kedXTojg1GboG5hZdqCXGNXIO36CP5zYxUJ6hZWJu94F2STz7nIZ3m89ro7Ad2ilcmz8c9dvpvxHUlFArolY+OJyPR5mwR1CyvTVuTO96qAjb38GpBp8VRs3DFg438gy0QfRjYCfQHob5vzHs8wWvourAXv/q5A7hLeRxaXywPhw8ioZHFIuM79vx1/6/EWF65x555DnunagXSOH3bhryCjmgbkjq0BuBnpqLzwuS78+Yjw/3Nh7y5qMf72+IUB3Y5E0c1bhF8cIbvDlf3rAT2/gzTynySoW6wy3Yc/MqzFf7whzG7J2vgTTs/vRtg4Ud0iy+Qdr8R/ANcbvaZi48jw4zRtF5OcPX6RgG6xylQWSCMYPoQ8ArEbcZq/QTqan7g0vPB5LvyLgOz1SOd7HzJtvR/ZMDLHlXkr/qjdm4nYjX/3vBd/xL8xEPam2IJ3BMFZjd8koFtYmW4P6HkBMiDZ72xUg99Rx9KtNEqZvDvenYHw9kB6v4+jWzR734n/TPFQF/4rskZeiT+dHk23ZG3s3WmVJaBbmL0PIU7Js/FDLvxdxGnWBuyTrI29WY73A+F1+Hfd56bdB7S0E2phB3gKMsJ5F/9Lwt5C8JEYYW86zPvfu3gjZcuR6adNrkEb17jqkJ1X3t1ctLAnG4x3g8t7Of7UQxlNNzhE6lYbOB9N1nMquz19nY0+g/9qoZjhGOe/GdGYbRy7NcfG0eyWjL3HIZtebBpsHBaO1DlhG4fZG5mO9Tq7uYHw/IDdvLCn9yZ3vA7/2b1I2TpkI9AtTueeyO7DcuRRkttdmX7m7DQuIvw7F+4VEf4V/t11NN28jjSWbpHxNiMDkOFOzwpkMFSehG5hZfqlS7cO6bxrA+FEdYtl758F7Do2wsbxdEvWxumwdx0y7R9sFzc4e6dq458hjrZXWDgT/X8uP+rQFr/TG484wpOQb75tRyrypJBwJfI2j534U1r7kWmozQFZ746qF9LRPYNU+FeRrdGlyFTDj9yxYLgYGbF6sj8IHC9FnjF7ElkQH4Y47VJkRD4ccWBtkWfSDrnwpsD5aLJ7EafzLPC0tbbMfe6p2Fr7/Xhhl27ksR8ji9knIHc+33E2rohit2RtXIZs138RuSsJ2jhow0TtXYy8t/Mm5KI0abBxZPig0/klZJ3r0kRtHMPef0Q2GrRBnjc0CG3xp6+9cBuaPkoC4ixNiKxxsnuRu6cC4EFr7e+MMf/Bn9auR+5m/x0rbK29MBCvv6uHCmcbT49I3RqQad0w3cLKhEt/H9Ie/mKtvd3LN6hDtLBXpohjDyJT9V1cPh3w35KVqG7R7H2UjZE15DC7xbR3Ajb2piSj6ZaIvcN0/gsyLZyyjWOFSTP58UWOH9w3oM5FHoIuQzrTE/CncLxwcUR4KNJ5nYKs3ZUh767binR8QyNkK53sXqTR/cDlWYt05NuREd6JyDx8LdIwz0GetTmAfNC0NzKldhvy2q4nkAX2QqfPQi9srbXGGGPdaCZeOHgsDvchz3ElEq4G2js7H0be/7kQWU/c58raF5lSrA2xW6I2PsHZZQCyQ7fa/b3R2bu3s/H/JWjvvcggZRHwhLPP7wN2TsnGkeFoGGOSsXGYvTsi05TdXDmHIOtnxcisRmdns3eR57D6IBsthrn/tyHPpL0TIdsZWZ99x9kJZGpxuzGmCGmnjyLTYnc5Gx6ICD/g7HcAeCAQ735kUPQjpOP8HjJ4aItMkxU73Xa7+Ctcmv2cPmHhYLxNSBv8K7AukO9dCYQ93YLH/ox84udl5IXQ+cB1yABsQYjdkrG3Z+MOyNrX/fjf54u0W5i9U7FxNLslY+93nGwB0i62IWt0qdo4apgMkFN3fsaYJ5E3jSxD3oDRFelAvBFcRZQw7m8V/ouZq/G/mxVN1nswuwq5WPLwH5qODNuAbDBeHdL573Npz0bWGD6DLFBPBN611q43xlyAXHAfIFN47yDTGBcha08xZa217xtjPgsssdZuMcZchDzEfBqwwlq7wRhzfpTwRcCbLt5TyBfDi5AOudrZOlG7xbNxMBzNbsnYOw9xiJ6dm2Pj0lj2duHzXfj9CLslY+9TkOnk8chgob8r22ZkGqoj0qn1dra3zq7bnJ3aB853jBLuigwKC5FOPhivJ9Jxb0A6wyJ3vJer83on68UrdLZaiziRV5A31dQYYwwyED2SysAi0YGcMabAWluTSNgYU4AMuL6NfLZqFzLYKnJl7h0RToe9u0ex24YQe6dkYy+cwYFcUjZOVDZWnimTzjnU1vxDRsKHkZGxF56EzK/XIR3twpBwjfv7Av68/1z8RdlkZKuQ7cJ1EeHqQLyqiHjW/Q4EwjsDeVsnv8IdO4LsMPXCb9N023EistXIs0apxqtFOo3DyPv4LqDpYx/J2i2Ruom0WzL2tjTdjp2qjZtrt0TjlSBTpyXINwyrkQHBXleOKheuDdilBpk69tYnD+I/2Lw3JBwv3mHE6UaGK6PEO+D+X4N00EuQ9bgvI51+H2R2pK/7fdn97Y9sTuseCI8IyEaL1y8Qr4/LawQyxdzPHYsW/gri8NYibeY+ZOBUFsVWydgtWrxodguzdzI2vtDZ49IE7ZaMvfsE4qVi4+7I9Gl7z79GC2fEJ7S0U8qi87sWGY3nRwmf6xr3yojwva5hTUUecq1FpiS98E0pyiaSxywXfhT/+1zV+NuHjxD+LM0h/E0P5fg7LROVrcLf6JFsvAOB8H4n/z/IBp0GZIdYpu2WTDzPxj9BRuAW33kma+Pm2C2ZeN4u37KAztORaVvv/HvIXWwtMkX8eiC8xKVVgXSqnuzhDMfzBhaHAmHPDu/j77QNhjfhPwfmlbU68PeDDMWrRu72HkbWsuYim0hexX+t2pos2S0yXrI29nZYZ8tuyeQxx9m3E7JW/R3kLrYxnDGf0NJOKYvObyL+VngvfDWyrrQD2eyw2DW0YNjbNfUC8rBlDbK5wltrmpuibCJ5/N417D8h0x2rkTuqqkBD8u4OK/G3GXt/vdGhTVJ2bzPieY81eLs1Lf4OudIs2S2ZeL9D1hL/6Oy9HengUrFxc+yWTLw6F94TCG9AOrxdrhwHXDk3OLt705KlyJSxF74rIJvJeNuRKcCXAmVoiAhb/MdLGmj6CMSBQNi7e7cZjFdL0458G9JOnsX/CHM27BYWLxkbe4PlerJjt2Tz8Jz0dmTKf6vrr38OvJ9Jn+CttRz3WGuXIqOMO5CXFr+AbLmd6cK/QRapV0aEv45U2DTkIeYKZCPHmUgH/5EUZRPJo4tTf7U7/xbybFApspnjceTu9ccu3MaFH0Ua1BxkcfufScrem2K8e5B1h6X4D7DWIIv9+cg0Rzbslky8bq4ca5AdtLXubyo2TtVuycbLQzqNJwLh5/FfWL0A6WiuRN4N2heZev6HC38hEN4dkM1UvK86uxcgz2fWuLKud2Xy2olFyHfHKvFf7HAkEK5F1ghtBuNVOn09WW/X5HhkxuCfWbBbtHiJ2vhvyEyLZ+Ns2C0Z2WrEgXv6nQYMMMa8iwzy7yaTtPQdWQvcAd6M/1Li9fhvTzmMPyoJC3s/S9MHXyubKZtIvP3IiP565G5mHTLSm4ZcEB2RDj8yfFbgWKqyqca7F38k6N3JZNtuycRb4367kB19YTYOCydit0zEW4GMlsPCpa6cy5FZDYtMNf3eyQTD2wKymYq3GX/qfqr7exYyCKlFBqDeeuxMZDqvDvn+ZT2yK/DfLnx9hGym4j2Df0eyPCScDbtFi5eojachnzGqzZLdks3jH+7YGVHChZn0BfnkGNba3xpjnkDeDuJtdT+E3DV0wZ9jDwtXIXcKRe7/SsR5Nlc2XrxyZFT/XcT53WqtrTTGTAKesdYeNsZMRC7YamQE9QzynJp3PlXZVONtRqYPZyNrb0Ncmepcmfbj7yYsC4SrXDgR2XTGG4RQhkwr/cSdm+TKWRklPDZQ5g/HkU1bPOQzQ88jO/9OxB9lj3LlAtl27k01DURG0w3IHfi3nEzPCNlMxOuGvDcXp/syZKfsVKR9zEW27xMINyDXyxvW2vuNMae78D2uHZKFeIuQTUVX47eVMc7OyZY/VbtFixcp2zXExl9wNn48WH5r7UvGmEsiwnHtlkC8VPJYZK19zcg3KCPDVWSQnHjUwRgzCukUuiDbhb2RvxcuQG7LI8Mn0HQr8R4Xr68LpyqbbLwC/OkCL9wd2Vm1DVkz6or/1hMv3AtpbCQhuwPZDZtKvB74DfgUxKlvRqaKDuDvbusM1LiOv3tkGOlkeicim4F4nYBy694jaIwZB5RZazeGhV0+Uc9nIV5fxCGe5+qtzLWrvq5+guE6F65F2t9BJx8mm8l4vZANEI8hdxiH8D+Y+iLyvbwHkSm++xAn/9844UzFe8X9/x4y9Xkm0pb3xil/hSt/b/e3LTIYK09jvGiyno0/CNi4DLnrug9Z5okMRyt/mGy0eMnIxq0ba+1TZJDj3vkZY76HjJKHI42mEHE2R5xIuxhhby663h1rkybZbMfLRh4ViJOsQkadf8O9BNdaW2GMOQF/h9sgF+4B7AuejyGb7XgxZWOkkcl4ecizh72QqdDeyDStCYQLEQe5G9muX+7qpQeyecogdwxbArLZjNfdxRuHDIZKkUFpW2Qab4ALb0G+Qr/ctbFTkSndUcjA6+0MxrP4b1nZj8xyLMVfl1qHvHLLGmO6xQoja7JF1tpD8WRTjRdDtou19hA0vtFqorV2UVjYlS/q+XTESzYPMk0651Bb2w+5AMuRxeAeSAf9Z2RjRj1yET4VEvbWjTbgf2dsG3J30xzZdMTb5eJ9gKxZRsbbmaJsc+I9if++zSNIZ/4BcmE+hczv70EW+G9yx19ERvyLkenc4PlI2WeRqadsxQvK3hw4/52I8EFkc4GXx0sZjPdtZN1kH9J2yvDXU2sC4SoX9tYz6/Afk6kNnD8SJZyNeK1ZtyNIO1+JdNa/RqY6T0IcYtuQcMc459MRLxt5ZEW3lvYLjf6hpRXIsPP7KvBWlPBK5AsOVchILhgucRfIOVHCz6Uom2oex4Ju5UiH7O34svgbUOqQ+X6v47EB2YbAz+uoImV3ZTlea9ZtHrIh4AjyodK3ncwGVz9ViMPcjwxAtiOOdRsyXVeNbOzxZNdkOZ4n+36KeWQynjfo249Ma9a5+JuRu9SH3K8aef7PC7/p/s5H7hYrkQFNMPy3ZsZLRx5/dbJzA/HmBuL9LRDvrSTiJSP7N+Q9pJcgM3Cdkd337YJhdX7Nd36fRZ6DmRYIzwiEZyId+N6I8M9dRd3hKskLf9GF/5CibKp5tHbddiJvXfkz4uxmI51G0BHW4j/3Y/GfB2wIhG0U2e1ZjtdadWsIxGtw9VTq6mQ90mnfg+8ApoWEN0fIZjtea9dtHzJNapEBx55AuDRg+2C4JhD26uxISLg58bKRR7Z08+L8L/KcbfCmZHG2/MPx/pzfM0gDvwmZ39+M7J7ywtcjnU15RHg8Umln43+G52zkQqlBOvxUZFPNozXr9g38O7+FyNTyGmfnrchru/YiGx72IxfBB/hvN3ktEF4QRfZwluO1Rt1w56oD4UuQNatdyMvTLbK7bwGyztYWGXV74ZeQXYN/DshmO15r1W06MiCuRF6QvgZpy1XO3hbZSQzSmbcPhI0LVyJ3i/n476sNrpk3J1428siGbgX4zxxeikztDzLG3ILYfQnZoqXvzjJ41+dt5vkIMq1Ri3QuH7jw20jnYpF3ToaFD+NPQXnrXXX4nViqstmOl408liJvlz+EbMr4FrKeNRTZjViP7JSrd/97xwYjGw3qkc0mYbKjshyvteq2GXkVVD0ygHsgEP4j0lFvQnb3NSDPWn45JPxwQDbb8VqrbluRwVs1Mvj7qTs+HnGQtUh7bkDWhPe78Kv418kTEeEq5Npobrxs5JEt3fa58ENRwgOy5iNa2kllwQl2RnbHne0q5BBy91KBv/AdL+z9vNv1dMlmO14m8zjswkfwp5N+juxC/DEyXXcbsqvuRBfe7s7/KBCOJpvteK1Rt6vxO5cF+K+uWo3/UV0v3OD+enVz2P1fGSKb7XitWbd65A5xLrIv4LPI4wJLkY/aLkfukILh37iwiRJOR7xs5JEt3d52538JvO366cawOr/mObzeyFTnNqRRb0FGIdvdrwYZ5ewMCR/Gv0jK3TFv0bw5stmOl23dKvAdojc9twUZUR9B1gL3BOLVuTz2Bc6HyW7JcrzWpttOZCDxOjJN9CXktU9v4u9Y9Dr4aOE6ZATu7XaMJZvteK1Zt0NIf/EfZJ1wDfL18g5JhH+YhXjZyCMrumXTTxyXz/kZYx5C3oTwf8guxYHIrfcQZC56O/KQaGS4FpmTLkfmrTsgHZT3JpxUZbMdr7Xo1hbpaHYjd98G6XQKkB2ObZFnv6LJZjtea9TNs+suZI1qC/JO2uVO5hQnX4K8BeYQ0pF44bXI2pc3qPFksx3vWNNtDfBhYI+1dokxphfSlzyOPCd4DvKe1cPA52OEX0LWyFONl408sqVbnjsWNWytPUKWOO42vLiPNl6E3Pn9HHlG52KkYvOQ71zlIQ9sR4Y7IttzlyFv+vgLcnG0Q7ZKpyqb7XgtrdsDLl5bF682YPsO7vwyZANBLNlsx2uNum1EHOIgpFPuj3zl437kM027kTvCc5F1rEnI99LORx4k741sHx8eIZvteMeabn2QF0d/2L2t6A5kYDciEP4TslGsBNm1eFVI+LfNjJeNPLKlWy9r7cPOwbWPEs4eLT1FmYEpz9HIl7YnRwlPRebyd0eEv4SsATyM//aJYPiRFGVTzUN1U9024G8YqMXfhFQXCO9z4SP428m95wbr8L+vWOfSsfhb+rMV73jRrTKQR00W4mUjj2zpthXZC3ADstnr/5Abk0LkdWZjsu4rWtpZZcD5FSIPAi9yxg0L/wqZSgqGlyCj7MNOdm1IOBXZVPNQ3VS3EmQ37VBk52Id0snXIBszavA7oXqadkj1+E7B6+BrAn+zGU91U90OunA14gjrgY8C1wFHWsJXHK9rfpORW/IqZNfWBchGjBeBC5EpjW3I7XgwPMD9XYc40b7IZoOO7lxdirKp5qG65bZubZENMR9Htuxb5GPMz+K/lL0L/ttg2iOj7DwXrnJp5CMdUlv8zTXZjKe6qW5d8B2jF65C3rf6sLX2SrJNS9+pZfAOcAz+syYH8L+HVY+/pTlauAF/SsSbYmpIg2y246lux49uB5HNA1uQNcJzkU0CDcgXHb7iwqfif4InGL45IJvteKqb6uadDw23hI/wdvEdd1hrVwKfN8Z4i9zn4XcqXZCpp1jhnshOu86I4yxLk2y246lux49u+5FNSP+y1q42xlwDVFtr/xMIL3ffB6xGNtV44YMhstmOp7rltm6Nsi78IS9MC3DcOj8Pa+1uYBYwyxiTZ61tAEgmnCnZbMdT3Y4f3RxFyEd3Q8MuLe94TNlsx1PdVDdkZ7gXzjrH5ZqfouQC7ttn9a7TiRlGHktJSDbb8VQ31S2lC6CZqPNTFEVRco7j7iF3RVEURYmHOj9FURQl51DnpyiKouQc6vwURVGUnEOdn6IoipJzqPNTFEVRco7/Dwi6Ns5uw2AGAAAAAElFTkSuQmCC\n",
      "text/plain": [
       "<Figure size 504x360 with 1 Axes>"
      ]
     },
     "execution_count": 127,
     "metadata": {},
     "output_type": "execute_result"
    }
   ],
   "source": [
    "#noisless simulations\n",
    "\n",
    "simulator = Aer.get_backend('aer_simulator')\n",
    "circ = transpile(grovers_circuit, simulator)\n",
    "\n",
    "# Run and get counts\n",
    "result = simulator.run(circ).result()\n",
    "counts = result.get_counts(circ)\n",
    "\n",
    "plot_histogram(counts, title=\"aer_simulator for Grovers\")"
   ]
  },
  {
   "cell_type": "code",
   "execution_count": 128,
   "id": "7d56ad9a",
   "metadata": {},
   "outputs": [
    {
     "name": "stderr",
     "output_type": "stream",
     "text": [
      "/var/folders/05/9y6gplnj7kg_9m62mlq2tlqr0000gn/T/ipykernel_23427/2301836458.py:2: DeprecationWarning: The module 'qiskit.test.mock' is deprecated since Qiskit Terra 0.21.0, and will be removed 3 months or more later. Instead, you should import the desired object directly 'qiskit.providers.fake_provider'.\n",
      "  from qiskit.test.mock import FakeVigo\n"
     ]
    },
   
   ],
   "source": [
    "#use of noisy simulator\n",
    "from qiskit.test.mock import FakeVigo\n",
    "device_backend = FakeVigo()\n",
    "\n",
    "# Transpile the circuit for the noisy basis gates\n",
    "sim_vigo = AerSimulator.from_backend(device_backend)\n",
    "tcirc = transpile(grovers_circuit, sim_vigo)\n",
    "\n",
    "# Execute noisy simulation and get counts\n",
    "result_noise = sim_vigo.run(tcirc).result()\n",
    "counts_noise = result_noise.get_counts(0)\n",
    "plot_histogram(counts_noise,title=\"Virgo noisy simulator for Grovers\")\n"
   ]
  },
  {
   "cell_type": "code",
   "execution_count": null,
   "id": "24a5188e",
   "metadata": {},
   "outputs": [],
   "source": [
    "from qiskit.test.mock import FakeVigo,FakeCasablanca\n",
    "device_backend = FakeCasablanca()\n",
    "\n",
    "# Transpile the circuit for the noisy basis gates\n",
    "sim_casa = AerSimulator.from_backend(device_backend)\n",
    "tcirc = transpile(grovers_circuit, sim_vigo)\n",
    "\n",
    "# Execute noisy simulation and get counts\n",
    "result_noise = sim_casa.run(tcirc).result()\n",
    "counts_noise = result_noise.get_counts(0)\n",
    "plot_histogram(counts_noise,\n",
    "               title=\"Casablanca noisy simulator for Grovers\")\n"
   ]
  },
  {
   "cell_type": "code",
   "execution_count": 125,
   "id": "7093a37d",
   "metadata": {},
   "outputs": [
    {
     "name": "stderr",
     "output_type": "stream",
     "text": [
      "/var/folders/05/9y6gplnj7kg_9m62mlq2tlqr0000gn/T/ipykernel_23427/2351677189.py:9: DeprecationWarning: The QuantumCircuit.__iadd__() method is being deprecated. Use the compose() (potentially with the inplace=True argument) and tensor() methods which are more flexible w.r.t circuit register compatibility.\n",
      "  circ += MCMT('z', n-1, 1)\n",
      "/var/folders/05/9y6gplnj7kg_9m62mlq2tlqr0000gn/T/ipykernel_23427/507826050.py:6: DeprecationWarning: The QuantumCircuit.__iadd__() method is being deprecated. Use the compose() (potentially with the inplace=True argument) and tensor() methods which are more flexible w.r.t circuit register compatibility.\n",
      "  c += MCMT('z', n-1, 1)\n",
      "/var/folders/05/9y6gplnj7kg_9m62mlq2tlqr0000gn/T/ipykernel_23427/2503091860.py:17: DeprecationWarning: The QuantumCircuit.__iadd__() method is being deprecated. Use the compose() (potentially with the inplace=True argument) and tensor() methods which are more flexible w.r.t circuit register compatibility.\n",
      "  grover_circ += diffuser(n)\n"
     ]
    },
    {
     "data": {
      "image/png": "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\n",
      "text/plain": [
       "<Figure size 432x288 with 1 Axes>"
      ]
     },
     "metadata": {
      "needs_background": "light"
     },
     "output_type": "display_data"
    }
   ],
   "source": [
    "import time\n",
    "import matplotlib.pyplot as plt\n",
    "\n",
    "#calculate execution time for different oracles \n",
    "\n",
    "time_for_diff_oracles=[]\n",
    "for i in range(20):\n",
    "    start_time = time.time()\n",
    "    n=2\n",
    "    b = np.random.randint(1,2**n)\n",
    "    b_str = format(b, '0'+str(n)+'b')\n",
    "    oracle_gate = grover_oracle(n,b_str)\n",
    "    bv_circuit = grovers_algorithm(oracle_gate, n)\n",
    "    time_for_diff_oracles.append(time.time()-start_time)\n",
    "    \n",
    "plt.plot(range(20),time_for_diff_oracles,\"o\")\n",
    "plt.xlabel(\"Oracle number (# qubits passed in oracle=2)\")\n",
    "plt.ylabel(\"Execusion time (s)\")\n",
    "plt.savefig(\"oracle_execusion_grover.pdf\")\n",
    "plt.show()"
   ]
  },
  {
   "cell_type": "code",
   "execution_count": 99,
   "id": "3db5c52a",
   "metadata": {},
   "outputs": [
    {
     "name": "stderr",
     "output_type": "stream",
     "text": [
      "/var/folders/05/9y6gplnj7kg_9m62mlq2tlqr0000gn/T/ipykernel_23427/2351677189.py:9: DeprecationWarning: The QuantumCircuit.__iadd__() method is being deprecated. Use the compose() (potentially with the inplace=True argument) and tensor() methods which are more flexible w.r.t circuit register compatibility.\n",
      "  circ += MCMT('z', n-1, 1)\n",
      "/var/folders/05/9y6gplnj7kg_9m62mlq2tlqr0000gn/T/ipykernel_23427/507826050.py:6: DeprecationWarning: The QuantumCircuit.__iadd__() method is being deprecated. Use the compose() (potentially with the inplace=True argument) and tensor() methods which are more flexible w.r.t circuit register compatibility.\n",
      "  c += MCMT('z', n-1, 1)\n",
      "/var/folders/05/9y6gplnj7kg_9m62mlq2tlqr0000gn/T/ipykernel_23427/2503091860.py:17: DeprecationWarning: The QuantumCircuit.__iadd__() method is being deprecated. Use the compose() (potentially with the inplace=True argument) and tensor() methods which are more flexible w.r.t circuit register compatibility.\n",
      "  grover_circ += diffuser(n)\n"
     ]
    },
    {
     "data": {
      "image/png": "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\n",
      "text/plain": [
       "<Figure size 432x288 with 1 Axes>"
      ]
     },
     "metadata": {
      "needs_background": "light"
     },
     "output_type": "display_data"
    }
   ],
   "source": [
    "#calculate execution time for different number of input qubits\n",
    "\n",
    "time_for_diff_n=[]\n",
    "numbers=[3,4,5,6,7,8,9,10,11,12,13]\n",
    "for i in numbers:\n",
    "    start_time = time.time()\n",
    "    n=i\n",
    "    b = np.random.randint(1,2**n)\n",
    "    b_str = format(b, '0'+str(n)+'b')\n",
    "    oracle_gate = grover_oracle(n,b_str)\n",
    "    grovers_circuit = grovers_algorithm(oracle_gate,n)\n",
    "    time_for_diff_n.append(time.time()-start_time)\n",
    "    \n",
    "plt.plot(numbers,time_for_diff_n,\"o\")\n",
    "plt.xlabel(\"Number of qubits passed in oracle\")\n",
    "plt.ylabel(\"Execusion time (s)\") \n",
    "plt.savefig(\"n_qubit_execusion_grover.pdf\")\n",
    "plt.show()"
   ]
  },
  {
   "cell_type": "code",
   "execution_count": null,
   "id": "48446cc2",
   "metadata": {},
   "outputs": [],
   "source": []
  }
 ],
 "metadata": {
  "kernelspec": {
   "display_name": "Python 3 (ipykernel)",
   "language": "python",
   "name": "python3"
  },
  "language_info": {
   "codemirror_mode": {
    "name": "ipython",
    "version": 3
   },
   "file_extension": ".py",
   "mimetype": "text/x-python",
   "name": "python",
   "nbconvert_exporter": "python",
   "pygments_lexer": "ipython3",
   "version": "3.9.7"
  }
 },
 "nbformat": 4,
 "nbformat_minor": 5
}
